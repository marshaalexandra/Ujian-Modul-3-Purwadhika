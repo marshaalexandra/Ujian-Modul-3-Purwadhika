{
 "cells": [
  {
   "cell_type": "code",
   "execution_count": 120,
   "id": "japanese-socket",
   "metadata": {},
   "outputs": [],
   "source": [
    "import pandas as pd\n",
    "import numpy as np\n",
    "import seaborn as sns\n",
    "import matplotlib.pyplot as plt\n",
    "import category_encoders as ce\n",
    "\n",
    "from sklearn.model_selection import train_test_split, StratifiedKFold, cross_val_score, GridSearchCV, RandomizedSearchCV\n",
    "from sklearn.metrics import confusion_matrix, classification_report, f1_score, recall_score, precision_score, roc_auc_score, SCORERS, mean_squared_error, plot_precision_recall_curve\n",
    "from sklearn.neighbors import KNeighborsClassifier\n",
    "from sklearn.tree import DecisionTreeRegressor, DecisionTreeClassifier\n",
    "from sklearn.linear_model import LinearRegression, LogisticRegression\n",
    "from sklearn.compose import ColumnTransformer\n",
    "from sklearn.pipeline import Pipeline\n",
    "from sklearn.preprocessing import OneHotEncoder, RobustScaler\n",
    "from sklearn.ensemble import RandomForestClassifier\n",
    "from imblearn.over_sampling import SMOTE, RandomOverSampler\n",
    "from imblearn.under_sampling import RandomUnderSampler, NearMiss\n",
    "from imblearn.pipeline import Pipeline"
   ]
  },
  {
   "cell_type": "code",
   "execution_count": 5,
   "id": "dying-isaac",
   "metadata": {},
   "outputs": [
    {
     "data": {
      "text/html": [
       "<div>\n",
       "<style scoped>\n",
       "    .dataframe tbody tr th:only-of-type {\n",
       "        vertical-align: middle;\n",
       "    }\n",
       "\n",
       "    .dataframe tbody tr th {\n",
       "        vertical-align: top;\n",
       "    }\n",
       "\n",
       "    .dataframe thead th {\n",
       "        text-align: right;\n",
       "    }\n",
       "</style>\n",
       "<table border=\"1\" class=\"dataframe\">\n",
       "  <thead>\n",
       "    <tr style=\"text-align: right;\">\n",
       "      <th></th>\n",
       "      <th>hotel</th>\n",
       "      <th>is_canceled</th>\n",
       "      <th>adults</th>\n",
       "      <th>children</th>\n",
       "      <th>babies</th>\n",
       "      <th>meal</th>\n",
       "      <th>country</th>\n",
       "      <th>market_segment</th>\n",
       "      <th>distribution_channel</th>\n",
       "      <th>reserved_room_type</th>\n",
       "      <th>booking_changes</th>\n",
       "      <th>deposit_type</th>\n",
       "      <th>days_in_waiting_list</th>\n",
       "      <th>customer_type</th>\n",
       "      <th>required_car_parking_spaces</th>\n",
       "      <th>total_of_special_requests</th>\n",
       "    </tr>\n",
       "  </thead>\n",
       "  <tbody>\n",
       "    <tr>\n",
       "      <th>0</th>\n",
       "      <td>Resort Hotel</td>\n",
       "      <td>0</td>\n",
       "      <td>2</td>\n",
       "      <td>0.0</td>\n",
       "      <td>0</td>\n",
       "      <td>BB</td>\n",
       "      <td>PRT</td>\n",
       "      <td>Direct</td>\n",
       "      <td>Direct</td>\n",
       "      <td>C</td>\n",
       "      <td>3</td>\n",
       "      <td>No Deposit</td>\n",
       "      <td>0</td>\n",
       "      <td>Transient</td>\n",
       "      <td>0</td>\n",
       "      <td>0</td>\n",
       "    </tr>\n",
       "    <tr>\n",
       "      <th>1</th>\n",
       "      <td>Resort Hotel</td>\n",
       "      <td>0</td>\n",
       "      <td>2</td>\n",
       "      <td>0.0</td>\n",
       "      <td>0</td>\n",
       "      <td>BB</td>\n",
       "      <td>PRT</td>\n",
       "      <td>Direct</td>\n",
       "      <td>Direct</td>\n",
       "      <td>C</td>\n",
       "      <td>4</td>\n",
       "      <td>No Deposit</td>\n",
       "      <td>0</td>\n",
       "      <td>Transient</td>\n",
       "      <td>0</td>\n",
       "      <td>0</td>\n",
       "    </tr>\n",
       "    <tr>\n",
       "      <th>2</th>\n",
       "      <td>Resort Hotel</td>\n",
       "      <td>0</td>\n",
       "      <td>1</td>\n",
       "      <td>0.0</td>\n",
       "      <td>0</td>\n",
       "      <td>BB</td>\n",
       "      <td>GBR</td>\n",
       "      <td>Direct</td>\n",
       "      <td>Direct</td>\n",
       "      <td>A</td>\n",
       "      <td>0</td>\n",
       "      <td>No Deposit</td>\n",
       "      <td>0</td>\n",
       "      <td>Transient</td>\n",
       "      <td>0</td>\n",
       "      <td>0</td>\n",
       "    </tr>\n",
       "    <tr>\n",
       "      <th>3</th>\n",
       "      <td>Resort Hotel</td>\n",
       "      <td>0</td>\n",
       "      <td>1</td>\n",
       "      <td>0.0</td>\n",
       "      <td>0</td>\n",
       "      <td>BB</td>\n",
       "      <td>GBR</td>\n",
       "      <td>Corporate</td>\n",
       "      <td>Corporate</td>\n",
       "      <td>A</td>\n",
       "      <td>0</td>\n",
       "      <td>No Deposit</td>\n",
       "      <td>0</td>\n",
       "      <td>Transient</td>\n",
       "      <td>0</td>\n",
       "      <td>0</td>\n",
       "    </tr>\n",
       "    <tr>\n",
       "      <th>4</th>\n",
       "      <td>Resort Hotel</td>\n",
       "      <td>0</td>\n",
       "      <td>2</td>\n",
       "      <td>0.0</td>\n",
       "      <td>0</td>\n",
       "      <td>BB</td>\n",
       "      <td>GBR</td>\n",
       "      <td>Online TA</td>\n",
       "      <td>TA/TO</td>\n",
       "      <td>A</td>\n",
       "      <td>0</td>\n",
       "      <td>No Deposit</td>\n",
       "      <td>0</td>\n",
       "      <td>Transient</td>\n",
       "      <td>0</td>\n",
       "      <td>1</td>\n",
       "    </tr>\n",
       "    <tr>\n",
       "      <th>...</th>\n",
       "      <td>...</td>\n",
       "      <td>...</td>\n",
       "      <td>...</td>\n",
       "      <td>...</td>\n",
       "      <td>...</td>\n",
       "      <td>...</td>\n",
       "      <td>...</td>\n",
       "      <td>...</td>\n",
       "      <td>...</td>\n",
       "      <td>...</td>\n",
       "      <td>...</td>\n",
       "      <td>...</td>\n",
       "      <td>...</td>\n",
       "      <td>...</td>\n",
       "      <td>...</td>\n",
       "      <td>...</td>\n",
       "    </tr>\n",
       "    <tr>\n",
       "      <th>119385</th>\n",
       "      <td>City Hotel</td>\n",
       "      <td>0</td>\n",
       "      <td>2</td>\n",
       "      <td>0.0</td>\n",
       "      <td>0</td>\n",
       "      <td>BB</td>\n",
       "      <td>BEL</td>\n",
       "      <td>Offline TA/TO</td>\n",
       "      <td>TA/TO</td>\n",
       "      <td>A</td>\n",
       "      <td>0</td>\n",
       "      <td>No Deposit</td>\n",
       "      <td>0</td>\n",
       "      <td>Transient</td>\n",
       "      <td>0</td>\n",
       "      <td>0</td>\n",
       "    </tr>\n",
       "    <tr>\n",
       "      <th>119386</th>\n",
       "      <td>City Hotel</td>\n",
       "      <td>0</td>\n",
       "      <td>3</td>\n",
       "      <td>0.0</td>\n",
       "      <td>0</td>\n",
       "      <td>BB</td>\n",
       "      <td>FRA</td>\n",
       "      <td>Online TA</td>\n",
       "      <td>TA/TO</td>\n",
       "      <td>E</td>\n",
       "      <td>0</td>\n",
       "      <td>No Deposit</td>\n",
       "      <td>0</td>\n",
       "      <td>Transient</td>\n",
       "      <td>0</td>\n",
       "      <td>2</td>\n",
       "    </tr>\n",
       "    <tr>\n",
       "      <th>119387</th>\n",
       "      <td>City Hotel</td>\n",
       "      <td>0</td>\n",
       "      <td>2</td>\n",
       "      <td>0.0</td>\n",
       "      <td>0</td>\n",
       "      <td>BB</td>\n",
       "      <td>DEU</td>\n",
       "      <td>Online TA</td>\n",
       "      <td>TA/TO</td>\n",
       "      <td>D</td>\n",
       "      <td>0</td>\n",
       "      <td>No Deposit</td>\n",
       "      <td>0</td>\n",
       "      <td>Transient</td>\n",
       "      <td>0</td>\n",
       "      <td>4</td>\n",
       "    </tr>\n",
       "    <tr>\n",
       "      <th>119388</th>\n",
       "      <td>City Hotel</td>\n",
       "      <td>0</td>\n",
       "      <td>2</td>\n",
       "      <td>0.0</td>\n",
       "      <td>0</td>\n",
       "      <td>BB</td>\n",
       "      <td>GBR</td>\n",
       "      <td>Online TA</td>\n",
       "      <td>TA/TO</td>\n",
       "      <td>A</td>\n",
       "      <td>0</td>\n",
       "      <td>No Deposit</td>\n",
       "      <td>0</td>\n",
       "      <td>Transient</td>\n",
       "      <td>0</td>\n",
       "      <td>0</td>\n",
       "    </tr>\n",
       "    <tr>\n",
       "      <th>119389</th>\n",
       "      <td>City Hotel</td>\n",
       "      <td>0</td>\n",
       "      <td>2</td>\n",
       "      <td>0.0</td>\n",
       "      <td>0</td>\n",
       "      <td>HB</td>\n",
       "      <td>DEU</td>\n",
       "      <td>Online TA</td>\n",
       "      <td>TA/TO</td>\n",
       "      <td>A</td>\n",
       "      <td>0</td>\n",
       "      <td>No Deposit</td>\n",
       "      <td>0</td>\n",
       "      <td>Transient</td>\n",
       "      <td>0</td>\n",
       "      <td>2</td>\n",
       "    </tr>\n",
       "  </tbody>\n",
       "</table>\n",
       "<p>119390 rows × 16 columns</p>\n",
       "</div>"
      ],
      "text/plain": [
       "               hotel  is_canceled  adults  children  babies meal country  \\\n",
       "0       Resort Hotel            0       2       0.0       0   BB     PRT   \n",
       "1       Resort Hotel            0       2       0.0       0   BB     PRT   \n",
       "2       Resort Hotel            0       1       0.0       0   BB     GBR   \n",
       "3       Resort Hotel            0       1       0.0       0   BB     GBR   \n",
       "4       Resort Hotel            0       2       0.0       0   BB     GBR   \n",
       "...              ...          ...     ...       ...     ...  ...     ...   \n",
       "119385    City Hotel            0       2       0.0       0   BB     BEL   \n",
       "119386    City Hotel            0       3       0.0       0   BB     FRA   \n",
       "119387    City Hotel            0       2       0.0       0   BB     DEU   \n",
       "119388    City Hotel            0       2       0.0       0   BB     GBR   \n",
       "119389    City Hotel            0       2       0.0       0   HB     DEU   \n",
       "\n",
       "       market_segment distribution_channel reserved_room_type  \\\n",
       "0              Direct               Direct                  C   \n",
       "1              Direct               Direct                  C   \n",
       "2              Direct               Direct                  A   \n",
       "3           Corporate            Corporate                  A   \n",
       "4           Online TA                TA/TO                  A   \n",
       "...               ...                  ...                ...   \n",
       "119385  Offline TA/TO                TA/TO                  A   \n",
       "119386      Online TA                TA/TO                  E   \n",
       "119387      Online TA                TA/TO                  D   \n",
       "119388      Online TA                TA/TO                  A   \n",
       "119389      Online TA                TA/TO                  A   \n",
       "\n",
       "        booking_changes deposit_type  days_in_waiting_list customer_type  \\\n",
       "0                     3   No Deposit                     0     Transient   \n",
       "1                     4   No Deposit                     0     Transient   \n",
       "2                     0   No Deposit                     0     Transient   \n",
       "3                     0   No Deposit                     0     Transient   \n",
       "4                     0   No Deposit                     0     Transient   \n",
       "...                 ...          ...                   ...           ...   \n",
       "119385                0   No Deposit                     0     Transient   \n",
       "119386                0   No Deposit                     0     Transient   \n",
       "119387                0   No Deposit                     0     Transient   \n",
       "119388                0   No Deposit                     0     Transient   \n",
       "119389                0   No Deposit                     0     Transient   \n",
       "\n",
       "        required_car_parking_spaces  total_of_special_requests  \n",
       "0                                 0                          0  \n",
       "1                                 0                          0  \n",
       "2                                 0                          0  \n",
       "3                                 0                          0  \n",
       "4                                 0                          1  \n",
       "...                             ...                        ...  \n",
       "119385                            0                          0  \n",
       "119386                            0                          2  \n",
       "119387                            0                          4  \n",
       "119388                            0                          0  \n",
       "119389                            0                          2  \n",
       "\n",
       "[119390 rows x 16 columns]"
      ]
     },
     "execution_count": 5,
     "metadata": {},
     "output_type": "execute_result"
    }
   ],
   "source": [
    "df = pd.read_csv('hotel_bookings.csv', usecols = ['hotel', 'is_canceled', 'adults', 'children', 'babies', 'meal', 'country', 'market_segment', 'distribution_channel', 'reserved_room_type', 'booking_changes', 'deposit_type', 'days_in_waiting_list', 'customer_type', 'required_car_parking_spaces', 'total_of_special_requests'])\n",
    "df"
   ]
  },
  {
   "cell_type": "markdown",
   "id": "vocational-accounting",
   "metadata": {},
   "source": [
    "# EDA\n",
    "\n",
    "Jalankan Exploratory Data Analysis untuk:\n",
    "\n",
    " - Memahami profil tamu/konsumen hotel (customer profiling).\n",
    " - Memahami kebiasaan tamu/konsumen hotel (customer behavior)."
   ]
  },
  {
   "cell_type": "code",
   "execution_count": 6,
   "id": "constant-authentication",
   "metadata": {},
   "outputs": [
    {
     "name": "stdout",
     "output_type": "stream",
     "text": [
      "<class 'pandas.core.frame.DataFrame'>\n",
      "RangeIndex: 119390 entries, 0 to 119389\n",
      "Data columns (total 16 columns):\n",
      " #   Column                       Non-Null Count   Dtype  \n",
      "---  ------                       --------------   -----  \n",
      " 0   hotel                        119390 non-null  object \n",
      " 1   is_canceled                  119390 non-null  int64  \n",
      " 2   adults                       119390 non-null  int64  \n",
      " 3   children                     119386 non-null  float64\n",
      " 4   babies                       119390 non-null  int64  \n",
      " 5   meal                         119390 non-null  object \n",
      " 6   country                      118902 non-null  object \n",
      " 7   market_segment               119390 non-null  object \n",
      " 8   distribution_channel         119390 non-null  object \n",
      " 9   reserved_room_type           119390 non-null  object \n",
      " 10  booking_changes              119390 non-null  int64  \n",
      " 11  deposit_type                 119390 non-null  object \n",
      " 12  days_in_waiting_list         119390 non-null  int64  \n",
      " 13  customer_type                119390 non-null  object \n",
      " 14  required_car_parking_spaces  119390 non-null  int64  \n",
      " 15  total_of_special_requests    119390 non-null  int64  \n",
      "dtypes: float64(1), int64(7), object(8)\n",
      "memory usage: 14.6+ MB\n"
     ]
    }
   ],
   "source": [
    "df.info()"
   ]
  },
  {
   "cell_type": "code",
   "execution_count": 7,
   "id": "understanding-publication",
   "metadata": {},
   "outputs": [
    {
     "data": {
      "text/plain": [
       "hotel                            0\n",
       "is_canceled                      0\n",
       "adults                           0\n",
       "children                         4\n",
       "babies                           0\n",
       "meal                             0\n",
       "country                        488\n",
       "market_segment                   0\n",
       "distribution_channel             0\n",
       "reserved_room_type               0\n",
       "booking_changes                  0\n",
       "deposit_type                     0\n",
       "days_in_waiting_list             0\n",
       "customer_type                    0\n",
       "required_car_parking_spaces      0\n",
       "total_of_special_requests        0\n",
       "dtype: int64"
      ]
     },
     "execution_count": 7,
     "metadata": {},
     "output_type": "execute_result"
    }
   ],
   "source": [
    "df.isna().sum()"
   ]
  },
  {
   "cell_type": "code",
   "execution_count": 9,
   "id": "cooperative-collectible",
   "metadata": {},
   "outputs": [
    {
     "data": {
      "text/plain": [
       "0    75166\n",
       "1    44224\n",
       "Name: is_canceled, dtype: int64"
      ]
     },
     "execution_count": 9,
     "metadata": {},
     "output_type": "execute_result"
    }
   ],
   "source": [
    "df['is_canceled'].value_counts()"
   ]
  },
  {
   "cell_type": "code",
   "execution_count": 8,
   "id": "outdoor-miracle",
   "metadata": {},
   "outputs": [
    {
     "data": {
      "text/plain": [
       "Text(0.5, 1.0, 'Cancellation Rate')"
      ]
     },
     "execution_count": 8,
     "metadata": {},
     "output_type": "execute_result"
    },
    {
     "data": {
      "image/png": "[encoded data removed]",
      "text/plain": [
       "<Figure size 432x288 with 1 Axes>"
      ]
     },
     "metadata": {},
     "output_type": "display_data"
    }
   ],
   "source": [
    "plt.pie(df['is_canceled'].value_counts(), labels = ['No','Yes'], autopct='%.2f')\n",
    "plt.legend(title = \"Canceled:\")\n",
    "plt.title('Cancellation Rate') #Cancellation Rate sebanyak 37.04%"
   ]
  },
  {
   "cell_type": "code",
   "execution_count": 26,
   "id": "lesser-choir",
   "metadata": {},
   "outputs": [
    {
     "data": {
      "text/html": [
       "<div>\n",
       "<style scoped>\n",
       "    .dataframe tbody tr th:only-of-type {\n",
       "        vertical-align: middle;\n",
       "    }\n",
       "\n",
       "    .dataframe tbody tr th {\n",
       "        vertical-align: top;\n",
       "    }\n",
       "\n",
       "    .dataframe thead th {\n",
       "        text-align: right;\n",
       "    }\n",
       "</style>\n",
       "<table border=\"1\" class=\"dataframe\">\n",
       "  <thead>\n",
       "    <tr style=\"text-align: right;\">\n",
       "      <th></th>\n",
       "      <th>is_canceled</th>\n",
       "      <th>adults</th>\n",
       "      <th>children</th>\n",
       "      <th>babies</th>\n",
       "      <th>booking_changes</th>\n",
       "      <th>days_in_waiting_list</th>\n",
       "      <th>required_car_parking_spaces</th>\n",
       "      <th>total_of_special_requests</th>\n",
       "    </tr>\n",
       "  </thead>\n",
       "  <tbody>\n",
       "    <tr>\n",
       "      <th>count</th>\n",
       "      <td>119390.000000</td>\n",
       "      <td>119390.000000</td>\n",
       "      <td>119386.000000</td>\n",
       "      <td>119390.000000</td>\n",
       "      <td>119390.000000</td>\n",
       "      <td>119390.000000</td>\n",
       "      <td>119390.000000</td>\n",
       "      <td>119390.000000</td>\n",
       "    </tr>\n",
       "    <tr>\n",
       "      <th>mean</th>\n",
       "      <td>0.370416</td>\n",
       "      <td>1.856403</td>\n",
       "      <td>0.103890</td>\n",
       "      <td>0.007949</td>\n",
       "      <td>0.221124</td>\n",
       "      <td>2.321149</td>\n",
       "      <td>0.062518</td>\n",
       "      <td>0.571363</td>\n",
       "    </tr>\n",
       "    <tr>\n",
       "      <th>std</th>\n",
       "      <td>0.482918</td>\n",
       "      <td>0.579261</td>\n",
       "      <td>0.398561</td>\n",
       "      <td>0.097436</td>\n",
       "      <td>0.652306</td>\n",
       "      <td>17.594721</td>\n",
       "      <td>0.245291</td>\n",
       "      <td>0.792798</td>\n",
       "    </tr>\n",
       "    <tr>\n",
       "      <th>min</th>\n",
       "      <td>0.000000</td>\n",
       "      <td>0.000000</td>\n",
       "      <td>0.000000</td>\n",
       "      <td>0.000000</td>\n",
       "      <td>0.000000</td>\n",
       "      <td>0.000000</td>\n",
       "      <td>0.000000</td>\n",
       "      <td>0.000000</td>\n",
       "    </tr>\n",
       "    <tr>\n",
       "      <th>25%</th>\n",
       "      <td>0.000000</td>\n",
       "      <td>2.000000</td>\n",
       "      <td>0.000000</td>\n",
       "      <td>0.000000</td>\n",
       "      <td>0.000000</td>\n",
       "      <td>0.000000</td>\n",
       "      <td>0.000000</td>\n",
       "      <td>0.000000</td>\n",
       "    </tr>\n",
       "    <tr>\n",
       "      <th>50%</th>\n",
       "      <td>0.000000</td>\n",
       "      <td>2.000000</td>\n",
       "      <td>0.000000</td>\n",
       "      <td>0.000000</td>\n",
       "      <td>0.000000</td>\n",
       "      <td>0.000000</td>\n",
       "      <td>0.000000</td>\n",
       "      <td>0.000000</td>\n",
       "    </tr>\n",
       "    <tr>\n",
       "      <th>75%</th>\n",
       "      <td>1.000000</td>\n",
       "      <td>2.000000</td>\n",
       "      <td>0.000000</td>\n",
       "      <td>0.000000</td>\n",
       "      <td>0.000000</td>\n",
       "      <td>0.000000</td>\n",
       "      <td>0.000000</td>\n",
       "      <td>1.000000</td>\n",
       "    </tr>\n",
       "    <tr>\n",
       "      <th>max</th>\n",
       "      <td>1.000000</td>\n",
       "      <td>55.000000</td>\n",
       "      <td>10.000000</td>\n",
       "      <td>10.000000</td>\n",
       "      <td>21.000000</td>\n",
       "      <td>391.000000</td>\n",
       "      <td>8.000000</td>\n",
       "      <td>5.000000</td>\n",
       "    </tr>\n",
       "  </tbody>\n",
       "</table>\n",
       "</div>"
      ],
      "text/plain": [
       "         is_canceled         adults       children         babies  \\\n",
       "count  119390.000000  119390.000000  119386.000000  119390.000000   \n",
       "mean        0.370416       1.856403       0.103890       0.007949   \n",
       "std         0.482918       0.579261       0.398561       0.097436   \n",
       "min         0.000000       0.000000       0.000000       0.000000   \n",
       "25%         0.000000       2.000000       0.000000       0.000000   \n",
       "50%         0.000000       2.000000       0.000000       0.000000   \n",
       "75%         1.000000       2.000000       0.000000       0.000000   \n",
       "max         1.000000      55.000000      10.000000      10.000000   \n",
       "\n",
       "       booking_changes  days_in_waiting_list  required_car_parking_spaces  \\\n",
       "count    119390.000000         119390.000000                119390.000000   \n",
       "mean          0.221124              2.321149                     0.062518   \n",
       "std           0.652306             17.594721                     0.245291   \n",
       "min           0.000000              0.000000                     0.000000   \n",
       "25%           0.000000              0.000000                     0.000000   \n",
       "50%           0.000000              0.000000                     0.000000   \n",
       "75%           0.000000              0.000000                     0.000000   \n",
       "max          21.000000            391.000000                     8.000000   \n",
       "\n",
       "       total_of_special_requests  \n",
       "count              119390.000000  \n",
       "mean                    0.571363  \n",
       "std                     0.792798  \n",
       "min                     0.000000  \n",
       "25%                     0.000000  \n",
       "50%                     0.000000  \n",
       "75%                     1.000000  \n",
       "max                     5.000000  "
      ]
     },
     "execution_count": 26,
     "metadata": {},
     "output_type": "execute_result"
    }
   ],
   "source": [
    "df.describe()"
   ]
  },
  {
   "cell_type": "code",
   "execution_count": 10,
   "id": "racial-louisiana",
   "metadata": {},
   "outputs": [
    {
     "name": "stderr",
     "output_type": "stream",
     "text": [
      "/Users/marshaalexandra/opt/anaconda3/lib/python3.8/site-packages/seaborn/distributions.py:2557: FutureWarning: `distplot` is a deprecated function and will be removed in a future version. Please adapt your code to use either `displot` (a figure-level function with similar flexibility) or `histplot` (an axes-level function for histograms).\n",
      "  warnings.warn(msg, FutureWarning)\n"
     ]
    },
    {
     "data": {
      "text/plain": [
       "<AxesSubplot:ylabel='Density'>"
      ]
     },
     "execution_count": 10,
     "metadata": {},
     "output_type": "execute_result"
    },
    {
     "data": {
      "image/png": "[encoded data removed]",
      "text/plain": [
       "<Figure size 576x576 with 1 Axes>"
      ]
     },
     "metadata": {
      "needs_background": "light"
     },
     "output_type": "display_data"
    }
   ],
   "source": [
    "plt.figure(figsize =(8,8))\n",
    "sns.distplot(df.drop(columns = ['hotel','meal','country','market_segment','distribution_channel','reserved_room_type','deposit_type','customer_type']))"
   ]
  },
  {
   "cell_type": "markdown",
   "id": "bridal-davis",
   "metadata": {},
   "source": [
    "#Distribusi data tidak normal."
   ]
  },
  {
   "cell_type": "code",
   "execution_count": 63,
   "id": "complimentary-buddy",
   "metadata": {},
   "outputs": [
    {
     "data": {
      "image/png": "[encoded data removed]",
      "text/plain": [
       "<Figure size 1440x1080 with 2 Axes>"
      ]
     },
     "metadata": {
      "needs_background": "light"
     },
     "output_type": "display_data"
    }
   ],
   "source": [
    "plt.figure(figsize=(20,15))\n",
    "ax = sns.heatmap(df.corr(), annot = True)"
   ]
  },
  {
   "cell_type": "markdown",
   "id": "adjusted-lawrence",
   "metadata": {},
   "source": [
    "#Tidak ada korelasi kuat antar feature-feature numerical"
   ]
  },
  {
   "cell_type": "markdown",
   "id": "otherwise-celtic",
   "metadata": {},
   "source": [
    "## Customer Profile\n",
    "\n",
    "Untuk mencari tahu profile dan behavior customer hotel, digunakan data customer yang tidak cancel bookingan hotelnya sehingga benar-benar merupakan customer hotel."
   ]
  },
  {
   "cell_type": "code",
   "execution_count": 12,
   "id": "interim-century",
   "metadata": {},
   "outputs": [
    {
     "data": {
      "text/html": [
       "<div>\n",
       "<style scoped>\n",
       "    .dataframe tbody tr th:only-of-type {\n",
       "        vertical-align: middle;\n",
       "    }\n",
       "\n",
       "    .dataframe tbody tr th {\n",
       "        vertical-align: top;\n",
       "    }\n",
       "\n",
       "    .dataframe thead th {\n",
       "        text-align: right;\n",
       "    }\n",
       "</style>\n",
       "<table border=\"1\" class=\"dataframe\">\n",
       "  <thead>\n",
       "    <tr style=\"text-align: right;\">\n",
       "      <th></th>\n",
       "      <th>hotel</th>\n",
       "      <th>is_canceled</th>\n",
       "      <th>adults</th>\n",
       "      <th>children</th>\n",
       "      <th>babies</th>\n",
       "      <th>meal</th>\n",
       "      <th>country</th>\n",
       "      <th>market_segment</th>\n",
       "      <th>distribution_channel</th>\n",
       "      <th>reserved_room_type</th>\n",
       "      <th>booking_changes</th>\n",
       "      <th>deposit_type</th>\n",
       "      <th>days_in_waiting_list</th>\n",
       "      <th>customer_type</th>\n",
       "      <th>required_car_parking_spaces</th>\n",
       "      <th>total_of_special_requests</th>\n",
       "    </tr>\n",
       "  </thead>\n",
       "  <tbody>\n",
       "    <tr>\n",
       "      <th>0</th>\n",
       "      <td>Resort Hotel</td>\n",
       "      <td>0</td>\n",
       "      <td>2</td>\n",
       "      <td>0.0</td>\n",
       "      <td>0</td>\n",
       "      <td>BB</td>\n",
       "      <td>PRT</td>\n",
       "      <td>Direct</td>\n",
       "      <td>Direct</td>\n",
       "      <td>C</td>\n",
       "      <td>3</td>\n",
       "      <td>No Deposit</td>\n",
       "      <td>0</td>\n",
       "      <td>Transient</td>\n",
       "      <td>0</td>\n",
       "      <td>0</td>\n",
       "    </tr>\n",
       "    <tr>\n",
       "      <th>1</th>\n",
       "      <td>Resort Hotel</td>\n",
       "      <td>0</td>\n",
       "      <td>2</td>\n",
       "      <td>0.0</td>\n",
       "      <td>0</td>\n",
       "      <td>BB</td>\n",
       "      <td>PRT</td>\n",
       "      <td>Direct</td>\n",
       "      <td>Direct</td>\n",
       "      <td>C</td>\n",
       "      <td>4</td>\n",
       "      <td>No Deposit</td>\n",
       "      <td>0</td>\n",
       "      <td>Transient</td>\n",
       "      <td>0</td>\n",
       "      <td>0</td>\n",
       "    </tr>\n",
       "    <tr>\n",
       "      <th>2</th>\n",
       "      <td>Resort Hotel</td>\n",
       "      <td>0</td>\n",
       "      <td>1</td>\n",
       "      <td>0.0</td>\n",
       "      <td>0</td>\n",
       "      <td>BB</td>\n",
       "      <td>GBR</td>\n",
       "      <td>Direct</td>\n",
       "      <td>Direct</td>\n",
       "      <td>A</td>\n",
       "      <td>0</td>\n",
       "      <td>No Deposit</td>\n",
       "      <td>0</td>\n",
       "      <td>Transient</td>\n",
       "      <td>0</td>\n",
       "      <td>0</td>\n",
       "    </tr>\n",
       "    <tr>\n",
       "      <th>3</th>\n",
       "      <td>Resort Hotel</td>\n",
       "      <td>0</td>\n",
       "      <td>1</td>\n",
       "      <td>0.0</td>\n",
       "      <td>0</td>\n",
       "      <td>BB</td>\n",
       "      <td>GBR</td>\n",
       "      <td>Corporate</td>\n",
       "      <td>Corporate</td>\n",
       "      <td>A</td>\n",
       "      <td>0</td>\n",
       "      <td>No Deposit</td>\n",
       "      <td>0</td>\n",
       "      <td>Transient</td>\n",
       "      <td>0</td>\n",
       "      <td>0</td>\n",
       "    </tr>\n",
       "    <tr>\n",
       "      <th>4</th>\n",
       "      <td>Resort Hotel</td>\n",
       "      <td>0</td>\n",
       "      <td>2</td>\n",
       "      <td>0.0</td>\n",
       "      <td>0</td>\n",
       "      <td>BB</td>\n",
       "      <td>GBR</td>\n",
       "      <td>Online TA</td>\n",
       "      <td>TA/TO</td>\n",
       "      <td>A</td>\n",
       "      <td>0</td>\n",
       "      <td>No Deposit</td>\n",
       "      <td>0</td>\n",
       "      <td>Transient</td>\n",
       "      <td>0</td>\n",
       "      <td>1</td>\n",
       "    </tr>\n",
       "    <tr>\n",
       "      <th>...</th>\n",
       "      <td>...</td>\n",
       "      <td>...</td>\n",
       "      <td>...</td>\n",
       "      <td>...</td>\n",
       "      <td>...</td>\n",
       "      <td>...</td>\n",
       "      <td>...</td>\n",
       "      <td>...</td>\n",
       "      <td>...</td>\n",
       "      <td>...</td>\n",
       "      <td>...</td>\n",
       "      <td>...</td>\n",
       "      <td>...</td>\n",
       "      <td>...</td>\n",
       "      <td>...</td>\n",
       "      <td>...</td>\n",
       "    </tr>\n",
       "    <tr>\n",
       "      <th>119385</th>\n",
       "      <td>City Hotel</td>\n",
       "      <td>0</td>\n",
       "      <td>2</td>\n",
       "      <td>0.0</td>\n",
       "      <td>0</td>\n",
       "      <td>BB</td>\n",
       "      <td>BEL</td>\n",
       "      <td>Offline TA/TO</td>\n",
       "      <td>TA/TO</td>\n",
       "      <td>A</td>\n",
       "      <td>0</td>\n",
       "      <td>No Deposit</td>\n",
       "      <td>0</td>\n",
       "      <td>Transient</td>\n",
       "      <td>0</td>\n",
       "      <td>0</td>\n",
       "    </tr>\n",
       "    <tr>\n",
       "      <th>119386</th>\n",
       "      <td>City Hotel</td>\n",
       "      <td>0</td>\n",
       "      <td>3</td>\n",
       "      <td>0.0</td>\n",
       "      <td>0</td>\n",
       "      <td>BB</td>\n",
       "      <td>FRA</td>\n",
       "      <td>Online TA</td>\n",
       "      <td>TA/TO</td>\n",
       "      <td>E</td>\n",
       "      <td>0</td>\n",
       "      <td>No Deposit</td>\n",
       "      <td>0</td>\n",
       "      <td>Transient</td>\n",
       "      <td>0</td>\n",
       "      <td>2</td>\n",
       "    </tr>\n",
       "    <tr>\n",
       "      <th>119387</th>\n",
       "      <td>City Hotel</td>\n",
       "      <td>0</td>\n",
       "      <td>2</td>\n",
       "      <td>0.0</td>\n",
       "      <td>0</td>\n",
       "      <td>BB</td>\n",
       "      <td>DEU</td>\n",
       "      <td>Online TA</td>\n",
       "      <td>TA/TO</td>\n",
       "      <td>D</td>\n",
       "      <td>0</td>\n",
       "      <td>No Deposit</td>\n",
       "      <td>0</td>\n",
       "      <td>Transient</td>\n",
       "      <td>0</td>\n",
       "      <td>4</td>\n",
       "    </tr>\n",
       "    <tr>\n",
       "      <th>119388</th>\n",
       "      <td>City Hotel</td>\n",
       "      <td>0</td>\n",
       "      <td>2</td>\n",
       "      <td>0.0</td>\n",
       "      <td>0</td>\n",
       "      <td>BB</td>\n",
       "      <td>GBR</td>\n",
       "      <td>Online TA</td>\n",
       "      <td>TA/TO</td>\n",
       "      <td>A</td>\n",
       "      <td>0</td>\n",
       "      <td>No Deposit</td>\n",
       "      <td>0</td>\n",
       "      <td>Transient</td>\n",
       "      <td>0</td>\n",
       "      <td>0</td>\n",
       "    </tr>\n",
       "    <tr>\n",
       "      <th>119389</th>\n",
       "      <td>City Hotel</td>\n",
       "      <td>0</td>\n",
       "      <td>2</td>\n",
       "      <td>0.0</td>\n",
       "      <td>0</td>\n",
       "      <td>HB</td>\n",
       "      <td>DEU</td>\n",
       "      <td>Online TA</td>\n",
       "      <td>TA/TO</td>\n",
       "      <td>A</td>\n",
       "      <td>0</td>\n",
       "      <td>No Deposit</td>\n",
       "      <td>0</td>\n",
       "      <td>Transient</td>\n",
       "      <td>0</td>\n",
       "      <td>2</td>\n",
       "    </tr>\n",
       "  </tbody>\n",
       "</table>\n",
       "<p>75166 rows × 16 columns</p>\n",
       "</div>"
      ],
      "text/plain": [
       "               hotel  is_canceled  adults  children  babies meal country  \\\n",
       "0       Resort Hotel            0       2       0.0       0   BB     PRT   \n",
       "1       Resort Hotel            0       2       0.0       0   BB     PRT   \n",
       "2       Resort Hotel            0       1       0.0       0   BB     GBR   \n",
       "3       Resort Hotel            0       1       0.0       0   BB     GBR   \n",
       "4       Resort Hotel            0       2       0.0       0   BB     GBR   \n",
       "...              ...          ...     ...       ...     ...  ...     ...   \n",
       "119385    City Hotel            0       2       0.0       0   BB     BEL   \n",
       "119386    City Hotel            0       3       0.0       0   BB     FRA   \n",
       "119387    City Hotel            0       2       0.0       0   BB     DEU   \n",
       "119388    City Hotel            0       2       0.0       0   BB     GBR   \n",
       "119389    City Hotel            0       2       0.0       0   HB     DEU   \n",
       "\n",
       "       market_segment distribution_channel reserved_room_type  \\\n",
       "0              Direct               Direct                  C   \n",
       "1              Direct               Direct                  C   \n",
       "2              Direct               Direct                  A   \n",
       "3           Corporate            Corporate                  A   \n",
       "4           Online TA                TA/TO                  A   \n",
       "...               ...                  ...                ...   \n",
       "119385  Offline TA/TO                TA/TO                  A   \n",
       "119386      Online TA                TA/TO                  E   \n",
       "119387      Online TA                TA/TO                  D   \n",
       "119388      Online TA                TA/TO                  A   \n",
       "119389      Online TA                TA/TO                  A   \n",
       "\n",
       "        booking_changes deposit_type  days_in_waiting_list customer_type  \\\n",
       "0                     3   No Deposit                     0     Transient   \n",
       "1                     4   No Deposit                     0     Transient   \n",
       "2                     0   No Deposit                     0     Transient   \n",
       "3                     0   No Deposit                     0     Transient   \n",
       "4                     0   No Deposit                     0     Transient   \n",
       "...                 ...          ...                   ...           ...   \n",
       "119385                0   No Deposit                     0     Transient   \n",
       "119386                0   No Deposit                     0     Transient   \n",
       "119387                0   No Deposit                     0     Transient   \n",
       "119388                0   No Deposit                     0     Transient   \n",
       "119389                0   No Deposit                     0     Transient   \n",
       "\n",
       "        required_car_parking_spaces  total_of_special_requests  \n",
       "0                                 0                          0  \n",
       "1                                 0                          0  \n",
       "2                                 0                          0  \n",
       "3                                 0                          0  \n",
       "4                                 0                          1  \n",
       "...                             ...                        ...  \n",
       "119385                            0                          0  \n",
       "119386                            0                          2  \n",
       "119387                            0                          4  \n",
       "119388                            0                          0  \n",
       "119389                            0                          2  \n",
       "\n",
       "[75166 rows x 16 columns]"
      ]
     },
     "execution_count": 12,
     "metadata": {},
     "output_type": "execute_result"
    }
   ],
   "source": [
    "df2 = df[df['is_canceled']==0]\n",
    "df2"
   ]
  },
  {
   "cell_type": "code",
   "execution_count": 17,
   "id": "south-bunny",
   "metadata": {},
   "outputs": [
    {
     "data": {
      "text/plain": [
       "<AxesSubplot:xlabel='hotel', ylabel='count'>"
      ]
     },
     "execution_count": 17,
     "metadata": {},
     "output_type": "execute_result"
    },
    {
     "data": {
      "image/png": "[encoded data removed]",
      "text/plain": [
       "<Figure size 432x288 with 1 Axes>"
      ]
     },
     "metadata": {
      "needs_background": "light"
     },
     "output_type": "display_data"
    }
   ],
   "source": [
    "sns.countplot(x='hotel',data=df2)"
   ]
  },
  {
   "cell_type": "code",
   "execution_count": 40,
   "id": "awful-complaint",
   "metadata": {},
   "outputs": [
    {
     "data": {
      "text/plain": [
       "City Hotel      61.501211\n",
       "Resort Hotel    38.498789\n",
       "Name: hotel, dtype: float64"
      ]
     },
     "execution_count": 40,
     "metadata": {},
     "output_type": "execute_result"
    }
   ],
   "source": [
    "df2['hotel'].value_counts()/df2['hotel'].shape[0]*100"
   ]
  },
  {
   "cell_type": "markdown",
   "id": "material-announcement",
   "metadata": {},
   "source": [
    "#Customer di City Hotel hampir 2 kali lebih banyak daripada customer di Resort Hotel. Hal ini mungkin dipengaruhi oleh berbagai macam faktor, seperti kapasitas, lokasi, dan harga kamar."
   ]
  },
  {
   "cell_type": "code",
   "execution_count": 38,
   "id": "destroyed-skill",
   "metadata": {},
   "outputs": [
    {
     "data": {
      "text/plain": [
       "<matplotlib.legend.Legend at 0x7fadebdc5760>"
      ]
     },
     "execution_count": 38,
     "metadata": {},
     "output_type": "execute_result"
    },
    {
     "data": {
      "image/png": "[encoded data removed]",
      "text/plain": [
       "<Figure size 1440x720 with 1 Axes>"
      ]
     },
     "metadata": {},
     "output_type": "display_data"
    }
   ],
   "source": [
    "plt.figure(figsize=(20,10))\n",
    "country = df2['country']\n",
    "temp = country.value_counts()\n",
    "labels = temp.keys()\n",
    "plt.pie(x = temp, labels = labels , autopct=\"%.2f%%\")\n",
    "plt.title('Persentase Customer Hotel Berdasarkan Negara', fontsize=20)\n",
    "plt.legend()"
   ]
  },
  {
   "cell_type": "markdown",
   "id": "skilled-limit",
   "metadata": {},
   "source": [
    "#Customer Hotel paling banyak berasal dari Portugal (PRT), United Kingdom (GBR), France (FRA), Spain (ESP) dan Germany (DEU)."
   ]
  },
  {
   "cell_type": "code",
   "execution_count": 18,
   "id": "wooden-accommodation",
   "metadata": {},
   "outputs": [
    {
     "data": {
      "text/plain": [
       "<AxesSubplot:xlabel='customer_type', ylabel='count'>"
      ]
     },
     "execution_count": 18,
     "metadata": {},
     "output_type": "execute_result"
    },
    {
     "data": {
      "image/png": "[encoded data removed]",
      "text/plain": [
       "<Figure size 432x288 with 1 Axes>"
      ]
     },
     "metadata": {
      "needs_background": "light"
     },
     "output_type": "display_data"
    }
   ],
   "source": [
    "sns.countplot(x='customer_type',data=df2)"
   ]
  },
  {
   "cell_type": "code",
   "execution_count": 41,
   "id": "innocent-implement",
   "metadata": {},
   "outputs": [
    {
     "data": {
      "text/plain": [
       "Transient          70.642312\n",
       "Transient-Party    24.924833\n",
       "Contract            3.743714\n",
       "Group               0.689141\n",
       "Name: customer_type, dtype: float64"
      ]
     },
     "execution_count": 41,
     "metadata": {},
     "output_type": "execute_result"
    }
   ],
   "source": [
    "df2['customer_type'].value_counts()/df2['customer_type'].shape[0]*100"
   ]
  },
  {
   "cell_type": "markdown",
   "id": "pending-rebate",
   "metadata": {},
   "source": [
    "#Customer type paling banyak adalah transient, atau customer yang booking tanpa asosiasi group atau kontrak."
   ]
  },
  {
   "cell_type": "code",
   "execution_count": 23,
   "id": "hydraulic-pioneer",
   "metadata": {},
   "outputs": [
    {
     "data": {
      "text/plain": [
       "<AxesSubplot:xlabel='market_segment', ylabel='count'>"
      ]
     },
     "execution_count": 23,
     "metadata": {},
     "output_type": "execute_result"
    },
    {
     "data": {
      "image/png": "[encoded data removed]",
      "text/plain": [
       "<Figure size 720x360 with 1 Axes>"
      ]
     },
     "metadata": {
      "needs_background": "light"
     },
     "output_type": "display_data"
    }
   ],
   "source": [
    "plt.figure(figsize=(10,5))\n",
    "sns.countplot(x='market_segment',data=df2)"
   ]
  },
  {
   "cell_type": "code",
   "execution_count": 42,
   "id": "instructional-horizontal",
   "metadata": {},
   "outputs": [
    {
     "data": {
      "text/plain": [
       "Online TA        47.545433\n",
       "Offline TA/TO    21.163824\n",
       "Direct           14.197909\n",
       "Groups           10.262619\n",
       "Corporate         5.724663\n",
       "Complementary     0.859431\n",
       "Aviation          0.246122\n",
       "Name: market_segment, dtype: float64"
      ]
     },
     "execution_count": 42,
     "metadata": {},
     "output_type": "execute_result"
    }
   ],
   "source": [
    "df2['market_segment'].value_counts()/df2['market_segment'].shape[0]*100"
   ]
  },
  {
   "cell_type": "markdown",
   "id": "external-letter",
   "metadata": {},
   "source": [
    "#Kebanyakan customer booking dari online travel agents. Hal ini menunjukkan tujuan customer hotel memang kebanyakan untuk jalan-jalan/liburan."
   ]
  },
  {
   "cell_type": "code",
   "execution_count": 20,
   "id": "deluxe-arkansas",
   "metadata": {},
   "outputs": [
    {
     "data": {
      "text/plain": [
       "<AxesSubplot:xlabel='distribution_channel', ylabel='count'>"
      ]
     },
     "execution_count": 20,
     "metadata": {},
     "output_type": "execute_result"
    },
    {
     "data": {
      "image/png": "[encoded data removed]",
      "text/plain": [
       "<Figure size 432x288 with 1 Axes>"
      ]
     },
     "metadata": {
      "needs_background": "light"
     },
     "output_type": "display_data"
    }
   ],
   "source": [
    "sns.countplot(x='distribution_channel',data=df2)"
   ]
  },
  {
   "cell_type": "markdown",
   "id": "placed-subsection",
   "metadata": {},
   "source": [
    "#Channel distribusi terbanyak adalah TA/TO, artinya memang customer hotel kebanyakan berasal dari customer yang ingin jalan-jalan."
   ]
  },
  {
   "cell_type": "code",
   "execution_count": 30,
   "id": "capital-swiss",
   "metadata": {},
   "outputs": [
    {
     "data": {
      "text/plain": [
       "<AxesSubplot:xlabel='adults', ylabel='count'>"
      ]
     },
     "execution_count": 30,
     "metadata": {},
     "output_type": "execute_result"
    },
    {
     "data": {
      "image/png": "[encoded data removed]",
      "text/plain": [
       "<Figure size 432x288 with 1 Axes>"
      ]
     },
     "metadata": {
      "needs_background": "light"
     },
     "output_type": "display_data"
    }
   ],
   "source": [
    "sns.countplot(x='adults',data=df2)"
   ]
  },
  {
   "cell_type": "code",
   "execution_count": 43,
   "id": "collect-japan",
   "metadata": {},
   "outputs": [
    {
     "data": {
      "text/plain": [
       "2    72.402416\n",
       "1    21.755847\n",
       "3     5.389405\n",
       "0     0.391134\n",
       "4     0.061198\n",
       "Name: adults, dtype: float64"
      ]
     },
     "execution_count": 43,
     "metadata": {},
     "output_type": "execute_result"
    }
   ],
   "source": [
    "df2['adults'].value_counts()/df2['adults'].shape[0]*100"
   ]
  },
  {
   "cell_type": "code",
   "execution_count": 45,
   "id": "spatial-capitol",
   "metadata": {},
   "outputs": [
    {
     "data": {
      "text/plain": [
       "<AxesSubplot:xlabel='babies', ylabel='count'>"
      ]
     },
     "execution_count": 45,
     "metadata": {},
     "output_type": "execute_result"
    },
    {
     "data": {
      "image/png": "[encoded data removed]",
      "text/plain": [
       "<Figure size 432x288 with 1 Axes>"
      ]
     },
     "metadata": {
      "needs_background": "light"
     },
     "output_type": "display_data"
    }
   ],
   "source": [
    "sns.countplot(x='children',data=df2)"
   ]
  },
  {
   "cell_type": "code",
   "execution_count": 32,
   "id": "trained-saskatchewan",
   "metadata": {},
   "outputs": [
    {
     "data": {
      "text/plain": [
       "<AxesSubplot:xlabel='babies', ylabel='count'>"
      ]
     },
     "execution_count": 32,
     "metadata": {},
     "output_type": "execute_result"
    },
    {
     "data": {
      "image/png": "[encoded data removed]",
      "text/plain": [
       "<Figure size 432x288 with 1 Axes>"
      ]
     },
     "metadata": {
      "needs_background": "light"
     },
     "output_type": "display_data"
    }
   ],
   "source": [
    "sns.countplot(x='babies',data=df2)"
   ]
  },
  {
   "cell_type": "markdown",
   "id": "written-abortion",
   "metadata": {},
   "source": [
    "#Kebanyakan customer hotel pesan kamar untuk 2 orang, artinya main customer di hotel ini kemungkinan besar couples. Hal ini diperkuat dengan minimnya jumlah anak-anak dan bayi sebagai customer hotel."
   ]
  },
  {
   "cell_type": "markdown",
   "id": "arctic-tonight",
   "metadata": {},
   "source": [
    "## Customer Behavior"
   ]
  },
  {
   "cell_type": "code",
   "execution_count": 52,
   "id": "documentary-premises",
   "metadata": {},
   "outputs": [
    {
     "name": "stderr",
     "output_type": "stream",
     "text": [
      "/Users/marshaalexandra/opt/anaconda3/lib/python3.8/site-packages/seaborn/distributions.py:2557: FutureWarning: `distplot` is a deprecated function and will be removed in a future version. Please adapt your code to use either `displot` (a figure-level function with similar flexibility) or `histplot` (an axes-level function for histograms).\n",
      "  warnings.warn(msg, FutureWarning)\n"
     ]
    },
    {
     "data": {
      "text/plain": [
       "<AxesSubplot:xlabel='booking_changes', ylabel='Density'>"
      ]
     },
     "execution_count": 52,
     "metadata": {},
     "output_type": "execute_result"
    },
    {
     "data": {
      "image/png": "[encoded data removed]",
      "text/plain": [
       "<Figure size 432x288 with 1 Axes>"
      ]
     },
     "metadata": {
      "needs_background": "light"
     },
     "output_type": "display_data"
    }
   ],
   "source": [
    "sns.distplot(df2['booking_changes'])"
   ]
  },
  {
   "cell_type": "markdown",
   "id": "convenient-burns",
   "metadata": {},
   "source": [
    "#Kebanyakan customers tidak membuat perubahan booking setelah booking hotel."
   ]
  },
  {
   "cell_type": "code",
   "execution_count": 53,
   "id": "reasonable-impression",
   "metadata": {},
   "outputs": [
    {
     "data": {
      "text/plain": [
       "<AxesSubplot:xlabel='deposit_type', ylabel='count'>"
      ]
     },
     "execution_count": 53,
     "metadata": {},
     "output_type": "execute_result"
    },
    {
     "data": {
      "image/png": "[encoded data removed]",
      "text/plain": [
       "<Figure size 432x288 with 1 Axes>"
      ]
     },
     "metadata": {
      "needs_background": "light"
     },
     "output_type": "display_data"
    }
   ],
   "source": [
    "sns.countplot(x='deposit_type',data=df2)"
   ]
  },
  {
   "cell_type": "markdown",
   "id": "elegant-strategy",
   "metadata": {},
   "source": [
    "#Kebanyakan customer tidak melakukan deposit untuk menjamin booking hotel."
   ]
  },
  {
   "cell_type": "code",
   "execution_count": 47,
   "id": "cutting-tourist",
   "metadata": {},
   "outputs": [
    {
     "data": {
      "text/plain": [
       "<AxesSubplot:xlabel='meal', ylabel='count'>"
      ]
     },
     "execution_count": 47,
     "metadata": {},
     "output_type": "execute_result"
    },
    {
     "data": {
      "image/png": "[encoded data removed]",
      "text/plain": [
       "<Figure size 432x288 with 1 Axes>"
      ]
     },
     "metadata": {
      "needs_background": "light"
     },
     "output_type": "display_data"
    }
   ],
   "source": [
    "sns.countplot(x='meal',data=df2)"
   ]
  },
  {
   "cell_type": "code",
   "execution_count": 60,
   "id": "academic-blackjack",
   "metadata": {},
   "outputs": [
    {
     "data": {
      "text/plain": [
       "BB           76.896469\n",
       "HB           12.610755\n",
       "SC            8.892318\n",
       "Undefined     1.174733\n",
       "FB            0.425724\n",
       "Name: meal, dtype: float64"
      ]
     },
     "execution_count": 60,
     "metadata": {},
     "output_type": "execute_result"
    }
   ],
   "source": [
    "df2['meal'].value_counts()/df2['meal'].shape[0]*100"
   ]
  },
  {
   "cell_type": "markdown",
   "id": "chronic-chase",
   "metadata": {},
   "source": [
    "#Kebanyakan customer order Bed and Breakfast, dan jarang order lunch dan dinner di hotel. Hal ini masuk akal karena customer yang datang kebanyakan tujuannya untuk jalan-jalan sehingga tidak menghabiskan banyak waktu di hotel."
   ]
  },
  {
   "cell_type": "code",
   "execution_count": 48,
   "id": "applicable-sacrifice",
   "metadata": {},
   "outputs": [
    {
     "data": {
      "text/plain": [
       "<AxesSubplot:xlabel='reserved_room_type', ylabel='count'>"
      ]
     },
     "execution_count": 48,
     "metadata": {},
     "output_type": "execute_result"
    },
    {
     "data": {
      "image/png": "[encoded data removed]",
      "text/plain": [
       "<Figure size 432x288 with 1 Axes>"
      ]
     },
     "metadata": {
      "needs_background": "light"
     },
     "output_type": "display_data"
    }
   ],
   "source": [
    "sns.countplot(x='reserved_room_type',data=df2)"
   ]
  },
  {
   "cell_type": "code",
   "execution_count": 61,
   "id": "patent-radar",
   "metadata": {},
   "outputs": [
    {
     "data": {
      "text/plain": [
       "A    69.664476\n",
       "D    17.426762\n",
       "E     6.147726\n",
       "F     2.683394\n",
       "G     1.770747\n",
       "B     0.997792\n",
       "C     0.830163\n",
       "H     0.473618\n",
       "L     0.005322\n",
       "Name: reserved_room_type, dtype: float64"
      ]
     },
     "execution_count": 61,
     "metadata": {},
     "output_type": "execute_result"
    }
   ],
   "source": [
    "df2['reserved_room_type'].value_counts()/df2['reserved_room_type'].shape[0]*100"
   ]
  },
  {
   "cell_type": "markdown",
   "id": "proprietary-connectivity",
   "metadata": {},
   "source": [
    "#Jenis kamar yang paling banyak dipesan adalah kamar A. Untuk improvement lebih lanjut, sebaiknya dibuat promo menarik jenis kamar lain untuk menarik perhatian customer."
   ]
  },
  {
   "cell_type": "code",
   "execution_count": 56,
   "id": "abroad-heating",
   "metadata": {},
   "outputs": [
    {
     "data": {
      "text/plain": [
       "<AxesSubplot:xlabel='required_car_parking_spaces', ylabel='count'>"
      ]
     },
     "execution_count": 56,
     "metadata": {},
     "output_type": "execute_result"
    },
    {
     "data": {
      "image/png": "[encoded data removed]",
      "text/plain": [
       "<Figure size 432x288 with 1 Axes>"
      ]
     },
     "metadata": {
      "needs_background": "light"
     },
     "output_type": "display_data"
    }
   ],
   "source": [
    "sns.countplot(x='required_car_parking_spaces',data=df2)"
   ]
  },
  {
   "cell_type": "markdown",
   "id": "renewable-scotland",
   "metadata": {},
   "source": [
    "#Kebanyakan customer tidak membutuhkan parking spaces. Melihat data customer dari mancanegara, kemungkinan besar kebanyakan customer berasal dari negara lain yang jaraknya jauh sehingga tidak datang dengan mobil."
   ]
  },
  {
   "cell_type": "code",
   "execution_count": 59,
   "id": "generic-madison",
   "metadata": {},
   "outputs": [
    {
     "data": {
      "text/plain": [
       "<AxesSubplot:xlabel='total_of_special_requests', ylabel='count'>"
      ]
     },
     "execution_count": 59,
     "metadata": {},
     "output_type": "execute_result"
    },
    {
     "data": {
      "image/png": "[encoded data removed]",
      "text/plain": [
       "<Figure size 432x288 with 1 Axes>"
      ]
     },
     "metadata": {
      "needs_background": "light"
     },
     "output_type": "display_data"
    }
   ],
   "source": [
    "sns.countplot(x='total_of_special_requests',data=df2)"
   ]
  },
  {
   "cell_type": "code",
   "execution_count": 62,
   "id": "organic-dialogue",
   "metadata": {},
   "outputs": [
    {
     "data": {
      "text/plain": [
       "0    48.907751\n",
       "1    34.467711\n",
       "2    13.440917\n",
       "3     2.728627\n",
       "4     0.404438\n",
       "5     0.050555\n",
       "Name: total_of_special_requests, dtype: float64"
      ]
     },
     "execution_count": 62,
     "metadata": {},
     "output_type": "execute_result"
    }
   ],
   "source": [
    "df2['total_of_special_requests'].value_counts()/df2['total_of_special_requests'].shape[0]*100"
   ]
  },
  {
   "cell_type": "markdown",
   "id": "nearby-robertson",
   "metadata": {},
   "source": [
    "#Kebanyakan customer tidak meminta atau meminta special request sekali di hotel ini."
   ]
  },
  {
   "cell_type": "markdown",
   "id": "continental-helena",
   "metadata": {},
   "source": [
    "Summary dan insights:\n",
    "   1. Customer Profile: \n",
    "      - Customer berasal dari negara Portugal, United Kingdom, France, Spain, dan Germany.\n",
    "      - Customer prefer City Hotel dibanding Resort Hotel. Manajemen hotel bisa mengevaluasi harga, kapasitas, fasilitas, waktu (apakah Resort Hotel hanya dibook saat holiday season saja?), dan lokasi yang membuat customer prefer City Hotel dibanding Resort Hotel\n",
    "      - Kebanyakan customer booking transient, tidak berasosiasi dengan group atau kontrak.\n",
    "      - Kebanyakan customer booking melalui travel agents atau tour operators secara online karena kemudahan booking lewat online. Banyaknya booking lewat channel ini menandakan bahwa kebanyakan customer di hotel tujuannya bukan menginap di hotel tersebut, tetapi ingin jalan-jalan di daerah tersebut. Untuk kedepannya, manajemen hotel dapat melakukan kolaborasi/partnership dengan pihak TA/TO untuk membuat promo menarik, melihat sebagian besar distribusi dan asal booking dari pihak TA/TO.\n",
    "      - Kebanyakan customer booking ke hotel untuk 2 orang adult, artinya kebanyakan customer hotel itu adalah adult couples. Bisa jadi daerah dimana hotel itu berada adalah destinasi honeymoon. Untuk ke depannya, manajemen hotel bisa menawarkan honeymoon package jika belum ada.\n",
    "   2. Customer Behavior:\n",
    "      - Kebanyakan customer tidak membuat perubahan booking setelah booking. Hal ini mungkin dikarenakan bookingnya menggunakan pihak ketiga (TA/TO) sehingga mempersulit membuat perubahan.\n",
    "      - Kebanyakan customer tidak melakukan deposit untuk menjamin booking di hotel tersebut. Hal ini sejalan dengan tujuan kebanyakan customer bukan fokus di hotel tersebut, melainkan travel di daerah tersebut.\n",
    "      - Kebanyakan customer memesan breakfast saja, bukan lunch atau dinner karena tujuan utamanya untuk jalan-jalan.\n",
    "      - Kebanyakan customer memesan room A mungkin karena kapasitas room A paling banyak atau fasilitasnya memadai dengan harga yang terjangkau. Untuk meningkatkan pemesanan di room lain, hotel dapat menawarkan promo yang menarik.\n",
    "      - Kebanyakan customer tidak membutuhkan parking space. Hal ini masuk akal karena banyak customer yang datang dari mancanegara dengan tujuan liburan sehingga bisa diasumsikan mereka datang dari negara yang jauh jaraknya sehingga tidak menggunakan mobil. Manajemen hotel bisa mengevaluasi kapasitas parking space apakah terlalu banyak yang kosong sehingga tidak terpakai atau tidak.\n",
    "      - Kebanyakan customer tidak meminta atau hanya meminta special request sebanyak 1 kali."
   ]
  },
  {
   "cell_type": "markdown",
   "id": "naval-defeat",
   "metadata": {},
   "source": [
    "# Data Cleaning and Preprocessing"
   ]
  },
  {
   "cell_type": "code",
   "execution_count": 64,
   "id": "naval-newman",
   "metadata": {},
   "outputs": [
    {
     "name": "stdout",
     "output_type": "stream",
     "text": [
      "<class 'pandas.core.frame.DataFrame'>\n",
      "RangeIndex: 119390 entries, 0 to 119389\n",
      "Data columns (total 16 columns):\n",
      " #   Column                       Non-Null Count   Dtype  \n",
      "---  ------                       --------------   -----  \n",
      " 0   hotel                        119390 non-null  object \n",
      " 1   is_canceled                  119390 non-null  int64  \n",
      " 2   adults                       119390 non-null  int64  \n",
      " 3   children                     119386 non-null  float64\n",
      " 4   babies                       119390 non-null  int64  \n",
      " 5   meal                         119390 non-null  object \n",
      " 6   country                      118902 non-null  object \n",
      " 7   market_segment               119390 non-null  object \n",
      " 8   distribution_channel         119390 non-null  object \n",
      " 9   reserved_room_type           119390 non-null  object \n",
      " 10  booking_changes              119390 non-null  int64  \n",
      " 11  deposit_type                 119390 non-null  object \n",
      " 12  days_in_waiting_list         119390 non-null  int64  \n",
      " 13  customer_type                119390 non-null  object \n",
      " 14  required_car_parking_spaces  119390 non-null  int64  \n",
      " 15  total_of_special_requests    119390 non-null  int64  \n",
      "dtypes: float64(1), int64(7), object(8)\n",
      "memory usage: 14.6+ MB\n"
     ]
    }
   ],
   "source": [
    "df.info()"
   ]
  },
  {
   "cell_type": "code",
   "execution_count": 65,
   "id": "competent-racing",
   "metadata": {},
   "outputs": [
    {
     "data": {
      "text/plain": [
       "hotel                            0\n",
       "is_canceled                      0\n",
       "adults                           0\n",
       "children                         4\n",
       "babies                           0\n",
       "meal                             0\n",
       "country                        488\n",
       "market_segment                   0\n",
       "distribution_channel             0\n",
       "reserved_room_type               0\n",
       "booking_changes                  0\n",
       "deposit_type                     0\n",
       "days_in_waiting_list             0\n",
       "customer_type                    0\n",
       "required_car_parking_spaces      0\n",
       "total_of_special_requests        0\n",
       "dtype: int64"
      ]
     },
     "execution_count": 65,
     "metadata": {},
     "output_type": "execute_result"
    }
   ],
   "source": [
    "df.isna().sum()"
   ]
  },
  {
   "cell_type": "markdown",
   "id": "successful-composite",
   "metadata": {},
   "source": [
    "Preprocessing scheme:\n",
    "   * Drop missing value: country, children. Jumlah missing value tidak banyak sehingga bisa langsung didrop\n",
    "   * one hot encoder: hotel, deposit type, customer type --> karena kategori per feature tidak banyak, sehingga kategori bisa dibuat per kolom\n",
    "   * binary encoder: meal, country, reserved room type, distribution channel, market segment --> karena jumlah kategori per feature >= 5\n",
    "   * passthrough: numerical features"
   ]
  },
  {
   "cell_type": "code",
   "execution_count": 70,
   "id": "aboriginal-glasgow",
   "metadata": {},
   "outputs": [],
   "source": [
    "df.dropna(subset=['country','children'],inplace = True)"
   ]
  },
  {
   "cell_type": "code",
   "execution_count": 72,
   "id": "intermediate-genome",
   "metadata": {},
   "outputs": [
    {
     "name": "stdout",
     "output_type": "stream",
     "text": [
      "<class 'pandas.core.frame.DataFrame'>\n",
      "Int64Index: 118898 entries, 0 to 119389\n",
      "Data columns (total 16 columns):\n",
      " #   Column                       Non-Null Count   Dtype  \n",
      "---  ------                       --------------   -----  \n",
      " 0   hotel                        118898 non-null  object \n",
      " 1   is_canceled                  118898 non-null  int64  \n",
      " 2   adults                       118898 non-null  int64  \n",
      " 3   children                     118898 non-null  float64\n",
      " 4   babies                       118898 non-null  int64  \n",
      " 5   meal                         118898 non-null  object \n",
      " 6   country                      118898 non-null  object \n",
      " 7   market_segment               118898 non-null  object \n",
      " 8   distribution_channel         118898 non-null  object \n",
      " 9   reserved_room_type           118898 non-null  object \n",
      " 10  booking_changes              118898 non-null  int64  \n",
      " 11  deposit_type                 118898 non-null  object \n",
      " 12  days_in_waiting_list         118898 non-null  int64  \n",
      " 13  customer_type                118898 non-null  object \n",
      " 14  required_car_parking_spaces  118898 non-null  int64  \n",
      " 15  total_of_special_requests    118898 non-null  int64  \n",
      "dtypes: float64(1), int64(7), object(8)\n",
      "memory usage: 15.4+ MB\n"
     ]
    }
   ],
   "source": [
    "df.info()"
   ]
  },
  {
   "cell_type": "code",
   "execution_count": 71,
   "id": "aggregate-scout",
   "metadata": {},
   "outputs": [
    {
     "data": {
      "text/plain": [
       "hotel                          0\n",
       "is_canceled                    0\n",
       "adults                         0\n",
       "children                       0\n",
       "babies                         0\n",
       "meal                           0\n",
       "country                        0\n",
       "market_segment                 0\n",
       "distribution_channel           0\n",
       "reserved_room_type             0\n",
       "booking_changes                0\n",
       "deposit_type                   0\n",
       "days_in_waiting_list           0\n",
       "customer_type                  0\n",
       "required_car_parking_spaces    0\n",
       "total_of_special_requests      0\n",
       "dtype: int64"
      ]
     },
     "execution_count": 71,
     "metadata": {},
     "output_type": "execute_result"
    }
   ],
   "source": [
    "df.isna().sum()"
   ]
  },
  {
   "cell_type": "code",
   "execution_count": 81,
   "id": "figured-stomach",
   "metadata": {},
   "outputs": [],
   "source": [
    "transformer = ColumnTransformer([\n",
    "    ('one hot', OneHotEncoder(drop = 'first'),['hotel','deposit_type','customer_type']),\n",
    "    ('binary',ce.BinaryEncoder(),['meal','country','market_segment','distribution_channel','reserved_room_type'])\n",
    "], remainder = 'passthrough')"
   ]
  },
  {
   "cell_type": "code",
   "execution_count": 82,
   "id": "proved-contents",
   "metadata": {},
   "outputs": [
    {
     "name": "stderr",
     "output_type": "stream",
     "text": [
      "/Users/marshaalexandra/opt/anaconda3/lib/python3.8/site-packages/category_encoders/utils.py:21: FutureWarning: is_categorical is deprecated and will be removed in a future version.  Use is_categorical_dtype instead\n",
      "  elif pd.api.types.is_categorical(cols):\n"
     ]
    },
    {
     "data": {
      "text/plain": [
       "array([[1., 0., 0., ..., 0., 0., 0.],\n",
       "       [1., 0., 0., ..., 0., 0., 0.],\n",
       "       [1., 0., 0., ..., 0., 0., 0.],\n",
       "       ...,\n",
       "       [0., 0., 0., ..., 0., 0., 4.],\n",
       "       [0., 0., 0., ..., 0., 0., 0.],\n",
       "       [0., 0., 0., ..., 0., 0., 2.]])"
      ]
     },
     "execution_count": 82,
     "metadata": {},
     "output_type": "execute_result"
    }
   ],
   "source": [
    "transformer.fit_transform(df) #test transformer"
   ]
  },
  {
   "cell_type": "markdown",
   "id": "cubic-devil",
   "metadata": {},
   "source": [
    "### Data Splitting"
   ]
  },
  {
   "cell_type": "code",
   "execution_count": 83,
   "id": "greenhouse-blair",
   "metadata": {},
   "outputs": [],
   "source": [
    "x = df.drop(columns=[\"is_canceled\"])\n",
    "y = df[\"is_canceled\"]"
   ]
  },
  {
   "cell_type": "code",
   "execution_count": 84,
   "id": "preceding-assist",
   "metadata": {},
   "outputs": [],
   "source": [
    "x_train, x_test, y_train, y_test = train_test_split(x, y, \n",
    "                                                    stratify = y,\n",
    "                                                    test_size = 0.3,\n",
    "                                                    random_state = 2020)"
   ]
  },
  {
   "cell_type": "markdown",
   "id": "random-birmingham",
   "metadata": {},
   "source": [
    "# Model Benchmark and Evaluation"
   ]
  },
  {
   "cell_type": "markdown",
   "id": "possible-martin",
   "metadata": {},
   "source": [
    "Model yang akan digunakan untuk memprediksi cancel booking(klasifikasi binary):\n",
    "   - Logistic Regression: algoritma klasifikasi untuk mencari hubungan antara feature (input) dengan probabilitas hasil output tertentu. Hasil logistic regression diinterpretasi dengan odds-ratio untuk indikasi probabilitas kesuksesan sebuah event terjadi.\n",
    "   - KNN : algoritma klasifikasi untuk mengklasifikasikan data berdasarkan dari kategori k-tetangga terdekat. Jumlah k akan ditentukan berdasarkan evaluasi validation data set.\n",
    "   - Decision Tree : algoritma klasifikasi yang menggunakan struktur pohon, dimana setiap node dan cabangnya merepresentasikan feature dengan nilai measurement (berdasarkan information gain atau gini impurity) yang paling bagus. Decision tree akan terus membagi sehingga terbentuk daun yang digunakan untuk merepresentasikan kelas."
   ]
  },
  {
   "cell_type": "markdown",
   "id": "iraqi-seller",
   "metadata": {},
   "source": [
    "2 jenis kesalahan:\n",
    "\n",
    "- Model memprediksi user akan cancel booking (membatalkan pesanan), padahal sebenarnya/realisasinya user tidak membatalkan pesanan (FP)\n",
    "- Model memprediksi user tidak membatalkan pesanan, padahal sebenarnya/realisasinya user cancel booking (membatalkan pesanan (FN)\n",
    "\n",
    "\n",
    "   a. Kesalahan yang lebih berpengaruh terhadap kerugian finansial perusahaan adalah FN karena hotel sudah mempersiapkan waktu, tenaga, dan uang untuk mempersiapkan kamar. Pada kesalahan FP, apabila ada customer yang diprediksi cancel, dan kamar yang diprediksi cancel kemudian dibooking orang lain, hal ini akan menyebabkan double book dan membuat customer komplain. Akan tetapi kebanyakan customer tidak membuat deposit, sehingga tidak ada refund process dari perusahaan sehingga dampak yang paling berpengaruh pada hotel adalah reputasi, bukan financial secara langsung seperti pada kesalahan FN.\n",
    "   \n",
    "   b. Kesalahan FN ingin ditekan dan metric evaluation yang dipakai adalah recall. Recall/sensitivity adalah rasio\n",
    "    data prediksi positif yang benar dibanding semua data yang actual positif. Dalam kasus ini, recall akan membandingkan semua data yang prediksi cancelnya benar dibanding semua data yang realisasinya adalah cancel. Oleh karena itu, semakin kecil nilai FN, akan semakin besar nilai recallnya. "
   ]
  },
  {
   "cell_type": "markdown",
   "id": "three-london",
   "metadata": {},
   "source": [
    "### Model Benchmark"
   ]
  },
  {
   "cell_type": "code",
   "execution_count": 89,
   "id": "hydraulic-catch",
   "metadata": {},
   "outputs": [],
   "source": [
    "import warnings\n",
    "warnings.filterwarnings(\"ignore\")"
   ]
  },
  {
   "cell_type": "code",
   "execution_count": 86,
   "id": "matched-marks",
   "metadata": {},
   "outputs": [],
   "source": [
    "models = [\n",
    "    ['Log Regression', LogisticRegression(max_iter=10000)], \n",
    "    ['Decision Tree', DecisionTreeClassifier(max_depth=3, random_state=2020)], \n",
    "    ['K Neighbors', KNeighborsClassifier(n_neighbors=2)],\n",
    "]"
   ]
  },
  {
   "cell_type": "code",
   "execution_count": 87,
   "id": "separate-canadian",
   "metadata": {},
   "outputs": [],
   "source": [
    "skfold = StratifiedKFold(n_splits = 5)\n",
    "\n",
    "def evaluate (models):\n",
    "\n",
    "    model_name=[]\n",
    "    scores=[]\n",
    "    score_std=[]\n",
    "    for name, model in models:\n",
    "        model = model\n",
    "        estimator = Pipeline([\n",
    "            ('transformer', transformer),\n",
    "            ('model', model)])\n",
    "\n",
    "        skfold=StratifiedKFold(n_splits=5)\n",
    "        score= cross_val_score(estimator,x_train,y_train,scoring='recall',cv=skfold).mean()\n",
    "        std= cross_val_score(estimator,x_train,y_train,scoring='recall',cv=skfold).std()\n",
    "        scores.append(score)\n",
    "        score_std.append(std)\n",
    "        model_name.append(name)\n",
    "\n",
    "    return pd.DataFrame({'Name': model_name,'score':scores, 'score_std':score_std})"
   ]
  },
  {
   "cell_type": "code",
   "execution_count": 90,
   "id": "needed-appointment",
   "metadata": {},
   "outputs": [
    {
     "data": {
      "text/html": [
       "<div>\n",
       "<style scoped>\n",
       "    .dataframe tbody tr th:only-of-type {\n",
       "        vertical-align: middle;\n",
       "    }\n",
       "\n",
       "    .dataframe tbody tr th {\n",
       "        vertical-align: top;\n",
       "    }\n",
       "\n",
       "    .dataframe thead th {\n",
       "        text-align: right;\n",
       "    }\n",
       "</style>\n",
       "<table border=\"1\" class=\"dataframe\">\n",
       "  <thead>\n",
       "    <tr style=\"text-align: right;\">\n",
       "      <th></th>\n",
       "      <th>Name</th>\n",
       "      <th>score</th>\n",
       "      <th>score_std</th>\n",
       "    </tr>\n",
       "  </thead>\n",
       "  <tbody>\n",
       "    <tr>\n",
       "      <th>0</th>\n",
       "      <td>Log Regression</td>\n",
       "      <td>0.548711</td>\n",
       "      <td>0.007676</td>\n",
       "    </tr>\n",
       "    <tr>\n",
       "      <th>1</th>\n",
       "      <td>Decision Tree</td>\n",
       "      <td>0.328178</td>\n",
       "      <td>0.004882</td>\n",
       "    </tr>\n",
       "    <tr>\n",
       "      <th>2</th>\n",
       "      <td>K Neighbors</td>\n",
       "      <td>0.567898</td>\n",
       "      <td>0.012314</td>\n",
       "    </tr>\n",
       "  </tbody>\n",
       "</table>\n",
       "</div>"
      ],
      "text/plain": [
       "             Name     score  score_std\n",
       "0  Log Regression  0.548711   0.007676\n",
       "1   Decision Tree  0.328178   0.004882\n",
       "2     K Neighbors  0.567898   0.012314"
      ]
     },
     "execution_count": 90,
     "metadata": {},
     "output_type": "execute_result"
    }
   ],
   "source": [
    "evaluate(models)"
   ]
  },
  {
   "cell_type": "code",
   "execution_count": 91,
   "id": "reported-questionnaire",
   "metadata": {},
   "outputs": [],
   "source": [
    "def recall (models):\n",
    "\n",
    "    model_name=[]\n",
    "    recall_scores=[]\n",
    "    score_std=[]\n",
    "    for name, model in models:\n",
    "        model = model\n",
    "        estimator = Pipeline([\n",
    "            ('transformer', transformer),\n",
    "            ('model', model)])\n",
    "\n",
    "        estimator.fit(x_train,y_train)\n",
    "        y_pred = estimator.predict(x_test)\n",
    "        recall = recall_score(y_test, y_pred)\n",
    "        recall_scores.append(recall)\n",
    "        model_name.append(name)\n",
    "\n",
    "    return pd.DataFrame({'Name': model_name,'Recall score':recall_scores})"
   ]
  },
  {
   "cell_type": "code",
   "execution_count": 92,
   "id": "occupational-turkey",
   "metadata": {},
   "outputs": [
    {
     "data": {
      "text/html": [
       "<div>\n",
       "<style scoped>\n",
       "    .dataframe tbody tr th:only-of-type {\n",
       "        vertical-align: middle;\n",
       "    }\n",
       "\n",
       "    .dataframe tbody tr th {\n",
       "        vertical-align: top;\n",
       "    }\n",
       "\n",
       "    .dataframe thead th {\n",
       "        text-align: right;\n",
       "    }\n",
       "</style>\n",
       "<table border=\"1\" class=\"dataframe\">\n",
       "  <thead>\n",
       "    <tr style=\"text-align: right;\">\n",
       "      <th></th>\n",
       "      <th>Name</th>\n",
       "      <th>Recall score</th>\n",
       "    </tr>\n",
       "  </thead>\n",
       "  <tbody>\n",
       "    <tr>\n",
       "      <th>0</th>\n",
       "      <td>Log Regression</td>\n",
       "      <td>0.543485</td>\n",
       "    </tr>\n",
       "    <tr>\n",
       "      <th>1</th>\n",
       "      <td>Decision Tree</td>\n",
       "      <td>0.327193</td>\n",
       "    </tr>\n",
       "    <tr>\n",
       "      <th>2</th>\n",
       "      <td>K Neighbors</td>\n",
       "      <td>0.556998</td>\n",
       "    </tr>\n",
       "  </tbody>\n",
       "</table>\n",
       "</div>"
      ],
      "text/plain": [
       "             Name  Recall score\n",
       "0  Log Regression      0.543485\n",
       "1   Decision Tree      0.327193\n",
       "2     K Neighbors      0.556998"
      ]
     },
     "execution_count": 92,
     "metadata": {},
     "output_type": "execute_result"
    }
   ],
   "source": [
    "recall(models)"
   ]
  },
  {
   "cell_type": "markdown",
   "id": "hungarian-thailand",
   "metadata": {},
   "source": [
    "Model dengan performa terbaik adalah K Neighbors berdasarkan cross validation dan nilai recall scorenya. Akan tetapi std scorenya juga paling tinggi dari ketiga model tersebut. Model Logistic Regression memiliki nilai cross validasi dan recall yang tidak jauh berbeda dengan K neighbors serta nilai std yang lebih rendah. Oleh karena itu Logistic Regression dipilih sebagai model benchmark."
   ]
  },
  {
   "cell_type": "code",
   "execution_count": 93,
   "id": "veterinary-nigeria",
   "metadata": {},
   "outputs": [],
   "source": [
    "#Imbalance Dataset Handling\n",
    "smote = SMOTE(random_state=2020)\n",
    "nearmiss = NearMiss()"
   ]
  },
  {
   "cell_type": "code",
   "execution_count": 94,
   "id": "assumed-operator",
   "metadata": {},
   "outputs": [],
   "source": [
    "#Model\n",
    "logreg = LogisticRegression(max_iter=10000)\n",
    "estimator_balance = Pipeline([('transformer', transformer), ('balancing', smote), ('model', logreg)])"
   ]
  },
  {
   "cell_type": "code",
   "execution_count": 95,
   "id": "indoor-frontier",
   "metadata": {},
   "outputs": [
    {
     "data": {
      "text/plain": [
       "GridSearchCV(cv=StratifiedKFold(n_splits=5, random_state=None, shuffle=False),\n",
       "             estimator=Pipeline(steps=[('transformer',\n",
       "                                        ColumnTransformer(remainder='passthrough',\n",
       "                                                          transformers=[('one '\n",
       "                                                                         'hot',\n",
       "                                                                         OneHotEncoder(drop='first'),\n",
       "                                                                         ['hotel',\n",
       "                                                                          'deposit_type',\n",
       "                                                                          'customer_type']),\n",
       "                                                                        ('binary',\n",
       "                                                                         BinaryEncoder(),\n",
       "                                                                         ['meal',\n",
       "                                                                          'country',\n",
       "                                                                          'market_segment',\n",
       "                                                                          'distribution_channel',\n",
       "                                                                          'reserved_room_type'])])),\n",
       "                                       ('balancing', SMOTE(random_state=2020)),\n",
       "                                       ('model',\n",
       "                                        LogisticRegression(max_iter=10000))]),\n",
       "             n_jobs=-1,\n",
       "             param_grid={'balancing': [SMOTE(random_state=2020), NearMiss()]},\n",
       "             scoring='recall')"
      ]
     },
     "execution_count": 95,
     "metadata": {},
     "output_type": "execute_result"
    }
   ],
   "source": [
    "hyperparam_space={'balancing':[smote,nearmiss]}\n",
    "\n",
    "grid_search= GridSearchCV(estimator_balance,\n",
    "    param_grid= hyperparam_space,\n",
    "    cv=skfold,\n",
    "    n_jobs=-1,\n",
    "    scoring='recall')\n",
    "grid_search.fit(x_train,y_train)"
   ]
  },
  {
   "cell_type": "code",
   "execution_count": 96,
   "id": "latin-envelope",
   "metadata": {},
   "outputs": [
    {
     "data": {
      "text/plain": [
       "0.728669510424527"
      ]
     },
     "execution_count": 96,
     "metadata": {},
     "output_type": "execute_result"
    }
   ],
   "source": [
    "grid_search.best_score_"
   ]
  },
  {
   "cell_type": "code",
   "execution_count": 97,
   "id": "ceramic-target",
   "metadata": {},
   "outputs": [
    {
     "data": {
      "text/plain": [
       "{'balancing': SMOTE(random_state=2020)}"
      ]
     },
     "execution_count": 97,
     "metadata": {},
     "output_type": "execute_result"
    }
   ],
   "source": [
    "grid_search.best_params_"
   ]
  },
  {
   "cell_type": "markdown",
   "id": "engaging-registrar",
   "metadata": {},
   "source": [
    "- Hasil imbalance dataset handling menunjukkan bahwa setelah dibalance, hasil cross validation model meningkat\n",
    "- Logreg before balance: 0.548, after balance: 0.728\n",
    "\n",
    "\n",
    "Model yang akan dipakai: Logistic Regression dengan metode balancing SMOTE."
   ]
  },
  {
   "cell_type": "markdown",
   "id": "freelance-chassis",
   "metadata": {},
   "source": [
    "# Hyperparameter Tuning"
   ]
  },
  {
   "cell_type": "code",
   "execution_count": 103,
   "id": "incorporated-donor",
   "metadata": {},
   "outputs": [],
   "source": [
    "#Model\n",
    "logreg = LogisticRegression(max_iter=10000)\n",
    "smote = SMOTE(random_state=2020)\n",
    "estimator_balance = Pipeline([('transformer', transformer), ('balancing', smote), ('model', logreg)])"
   ]
  },
  {
   "cell_type": "code",
   "execution_count": 104,
   "id": "peripheral-produce",
   "metadata": {},
   "outputs": [],
   "source": [
    "hyperparam_space = {\n",
    "    'balancing__k_neighbors': [2,5,10,15,20],\n",
    "    'model__solver' : ['liblinear', 'newton-cg'],\n",
    "    'model__C' : [100, 10, 1, 0.1, 0.01, 0.001]\n",
    "}"
   ]
  },
  {
   "cell_type": "markdown",
   "id": "neutral-drilling",
   "metadata": {},
   "source": [
    "Hyperparameter tuning menggunakan RandomizedSearch untuk efisiensi waktu karena estimasi running 3 model benchmark membutuhkan waktu sekitar 10-15 menit.\n",
    "\n",
    "Parameter yang dipakai adalah:\n",
    "1. Parameter SMOTE:\n",
    "   - k neighbors = jumlah tetangga terdekat untuk membuat data sintetik\n",
    "2. Parameter Model:\n",
    "   - Solver: algoritma untuk optimisasi. 'lib_linear' biasanya digunakan untuk dataset kecil sedangkan 'newton-cg' dapat menghandle multiclass.\n",
    "   - C: kekuatan regularization; semakin kecil nilai C, semakin besar kekuatan regularization."
   ]
  },
  {
   "cell_type": "code",
   "execution_count": 109,
   "id": "floral-fifteen",
   "metadata": {},
   "outputs": [],
   "source": [
    "skfold = StratifiedKFold(n_splits=5)\n",
    "random_search = RandomizedSearchCV(\n",
    "    estimator_balance,\n",
    "    param_distributions=hyperparam_space,\n",
    "    cv=skfold,\n",
    "    scoring='recall',\n",
    "    n_iter = 10,\n",
    "    n_jobs=-1\n",
    ")"
   ]
  },
  {
   "cell_type": "code",
   "execution_count": 110,
   "id": "broad-course",
   "metadata": {},
   "outputs": [
    {
     "data": {
      "text/plain": [
       "RandomizedSearchCV(cv=StratifiedKFold(n_splits=5, random_state=None, shuffle=False),\n",
       "                   estimator=Pipeline(steps=[('transformer',\n",
       "                                              ColumnTransformer(remainder='passthrough',\n",
       "                                                                transformers=[('one '\n",
       "                                                                               'hot',\n",
       "                                                                               OneHotEncoder(drop='first'),\n",
       "                                                                               ['hotel',\n",
       "                                                                                'deposit_type',\n",
       "                                                                                'customer_type']),\n",
       "                                                                              ('binary',\n",
       "                                                                               BinaryEncoder(),\n",
       "                                                                               ['meal',\n",
       "                                                                                'country',\n",
       "                                                                                'market_segment',\n",
       "                                                                                'distribution_channel',\n",
       "                                                                                'reserved_room_type'])])),\n",
       "                                             ('balancing',\n",
       "                                              SMOTE(random_state=2020)),\n",
       "                                             ('model',\n",
       "                                              LogisticRegression(max_iter=10000))]),\n",
       "                   n_jobs=-1,\n",
       "                   param_distributions={'balancing__k_neighbors': [2, 5, 10, 15,\n",
       "                                                                   20],\n",
       "                                        'model__C': [100, 10, 1, 0.1, 0.01,\n",
       "                                                     0.001],\n",
       "                                        'model__solver': ['liblinear',\n",
       "                                                          'newton-cg']},\n",
       "                   scoring='recall')"
      ]
     },
     "execution_count": 110,
     "metadata": {},
     "output_type": "execute_result"
    }
   ],
   "source": [
    "random_search.fit(x_train, y_train)"
   ]
  },
  {
   "cell_type": "code",
   "execution_count": 111,
   "id": "adaptive-sacrifice",
   "metadata": {},
   "outputs": [
    {
     "name": "stdout",
     "output_type": "stream",
     "text": [
      "Best Score: 0.7298668690240612\n",
      "Best Param: {'model__solver': 'newton-cg', 'model__C': 10, 'balancing__k_neighbors': 20}\n"
     ]
    }
   ],
   "source": [
    "print('Best Score: {}'.format(random_search.best_score_))\n",
    "print('Best Param: {}'.format(random_search.best_params_))"
   ]
  },
  {
   "cell_type": "markdown",
   "id": "other-mystery",
   "metadata": {},
   "source": [
    "## Before Tuning"
   ]
  },
  {
   "cell_type": "code",
   "execution_count": 112,
   "id": "legislative-tackle",
   "metadata": {},
   "outputs": [],
   "source": [
    "#Model\n",
    "logreg = LogisticRegression(max_iter=10000)\n",
    "smote = SMOTE(random_state=2020)\n",
    "estimator_balance = Pipeline([('transformer', transformer), ('balancing', smote), ('model', logreg)])"
   ]
  },
  {
   "cell_type": "code",
   "execution_count": 121,
   "id": "generic-captain",
   "metadata": {},
   "outputs": [
    {
     "data": {
      "text/plain": [
       "<sklearn.metrics._plot.precision_recall_curve.PrecisionRecallDisplay at 0x7fade6043fa0>"
      ]
     },
     "execution_count": 121,
     "metadata": {},
     "output_type": "execute_result"
    },
    {
     "data": {
      "image/png": "[encoded data removed]",
      "text/plain": [
       "<Figure size 432x288 with 1 Axes>"
      ]
     },
     "metadata": {
      "needs_background": "light"
     },
     "output_type": "display_data"
    }
   ],
   "source": [
    "plot_precision_recall_curve(estimator_balance,x_test,y_test)"
   ]
  },
  {
   "cell_type": "code",
   "execution_count": 113,
   "id": "dominican-authorization",
   "metadata": {},
   "outputs": [
    {
     "name": "stdout",
     "output_type": "stream",
     "text": [
      "              precision    recall  f1-score   support\n",
      "\n",
      "           0       0.83      0.78      0.81     22424\n",
      "           1       0.67      0.73      0.69     13246\n",
      "\n",
      "    accuracy                           0.76     35670\n",
      "   macro avg       0.75      0.76      0.75     35670\n",
      "weighted avg       0.77      0.76      0.76     35670\n",
      "\n"
     ]
    }
   ],
   "source": [
    "estimator_balance.fit(x_train,y_train)\n",
    "y_pred = estimator_balance.predict(x_test)\n",
    "print(classification_report(y_test,y_pred))"
   ]
  },
  {
   "cell_type": "markdown",
   "id": "understood-channels",
   "metadata": {},
   "source": [
    "## After Tuning"
   ]
  },
  {
   "cell_type": "code",
   "execution_count": 122,
   "id": "frozen-pollution",
   "metadata": {},
   "outputs": [
    {
     "data": {
      "text/plain": [
       "<sklearn.metrics._plot.precision_recall_curve.PrecisionRecallDisplay at 0x7fadeb6374c0>"
      ]
     },
     "execution_count": 122,
     "metadata": {},
     "output_type": "execute_result"
    },
    {
     "data": {
      "image/png": "[encoded data removed]",
      "text/plain": [
       "<Figure size 432x288 with 1 Axes>"
      ]
     },
     "metadata": {
      "needs_background": "light"
     },
     "output_type": "display_data"
    }
   ],
   "source": [
    "plot_precision_recall_curve(random_search.best_estimator_,x_test,y_test)"
   ]
  },
  {
   "cell_type": "code",
   "execution_count": 114,
   "id": "simplified-import",
   "metadata": {},
   "outputs": [
    {
     "name": "stdout",
     "output_type": "stream",
     "text": [
      "              precision    recall  f1-score   support\n",
      "\n",
      "           0       0.83      0.79      0.81     22424\n",
      "           1       0.67      0.73      0.70     13246\n",
      "\n",
      "    accuracy                           0.76     35670\n",
      "   macro avg       0.75      0.76      0.75     35670\n",
      "weighted avg       0.77      0.76      0.77     35670\n",
      "\n"
     ]
    }
   ],
   "source": [
    "random_search.best_estimator_.fit(x_train, y_train)\n",
    "y_pred = random_search.best_estimator_.predict(x_test)\n",
    "print(classification_report(y_test, y_pred))"
   ]
  },
  {
   "cell_type": "markdown",
   "id": "nutritional-discretion",
   "metadata": {},
   "source": [
    "Before dan after tuning: tidak ada perbedaan signifikan baik di recall score, maupun di precision-recall curve. Hasil F1 score meningkat setelah hyperparameter tuning. Untuk kedepannya, dapat mencoba membuat model dengan metric evaluasi F1 score."
   ]
  },
  {
   "cell_type": "markdown",
   "id": "fluid-avenue",
   "metadata": {},
   "source": [
    "## Saving Model with Pickle"
   ]
  },
  {
   "cell_type": "code",
   "execution_count": 115,
   "id": "imported-scenario",
   "metadata": {},
   "outputs": [],
   "source": [
    "import pickle"
   ]
  },
  {
   "cell_type": "code",
   "execution_count": 116,
   "id": "broadband-multimedia",
   "metadata": {},
   "outputs": [
    {
     "data": {
      "text/plain": [
       "Pipeline(steps=[('transformer',\n",
       "                 ColumnTransformer(remainder='passthrough',\n",
       "                                   transformers=[('one hot',\n",
       "                                                  OneHotEncoder(drop='first'),\n",
       "                                                  ['hotel', 'deposit_type',\n",
       "                                                   'customer_type']),\n",
       "                                                 ('binary', BinaryEncoder(),\n",
       "                                                  ['meal', 'country',\n",
       "                                                   'market_segment',\n",
       "                                                   'distribution_channel',\n",
       "                                                   'reserved_room_type'])])),\n",
       "                ('balancing', SMOTE(k_neighbors=20, random_state=2020)),\n",
       "                ('model',\n",
       "                 LogisticRegression(C=10, max_iter=10000, solver='newton-cg'))])"
      ]
     },
     "execution_count": 116,
     "metadata": {},
     "output_type": "execute_result"
    }
   ],
   "source": [
    "random_search.best_estimator_.fit(x, y)"
   ]
  },
  {
   "cell_type": "code",
   "execution_count": 117,
   "id": "fluid-isaac",
   "metadata": {},
   "outputs": [],
   "source": [
    "file_name = 'ujian.sav'\n",
    "\n",
    "pickle.dump(random_search.best_estimator_, open(file_name,'wb'))"
   ]
  },
  {
   "cell_type": "code",
   "execution_count": 118,
   "id": "fallen-queens",
   "metadata": {},
   "outputs": [
    {
     "data": {
      "text/plain": [
       "array([0, 0, 1, ..., 0, 0, 1])"
      ]
     },
     "execution_count": 118,
     "metadata": {},
     "output_type": "execute_result"
    }
   ],
   "source": [
    "loaded_model = pickle.load(open(file_name,'rb'))\n",
    "loaded_model.predict(x_test)"
   ]
  },
  {
   "cell_type": "markdown",
   "id": "cooked-removal",
   "metadata": {},
   "source": [
    "# Kesimpulan\n",
    "\n",
    "\n",
    "Setelah hyperparameter tuning, performa model tidak meningkat secara signifikan. Hal ini mungkin dikarenakan model dihyperparameter tuning menggunakan RandomizedSearch, bukan GridSearch. GridSearch akan mendapatkan hyperparameter tuning yang parameter yang terbaik, namun hyperparameter tuning dengan GridSearch membutuhkan waktu yang lama karena GridSearch akan mencoba semua kombinasi parameter yang kita masukkan. \n",
    "\n",
    "Kesimpulan akhir: model LogisticRegression dengan metode balancing SMOTE tanpa hyperparameter tuning dapat digunakan sebagai model memprediksi user cancel booking atau tidak dengan recall score 0.73. Untuk perbaikan/improvement model, ada beberapa suggestions yang dapat dilakukan:\n",
    "\n",
    " - Hyperparameter Tuning dengan GridSearch\n",
    " - Pemilihan parameter lain selain k neighbors, solver, dan C\n",
    " - Feature Selection atau dimension reduction dengan PCA\n",
    " - Evaluasi dengan model K Neighbors dan hyperparameter tuning dengan parameternya untuk membandingkan score metric evaluasinya\n",
    " - Menggunakan F1 score sebagai metric evaluasi, melihat curve precision dan recall trade off yang cenderung smooth dan nilai f1 score yang meningkat setelah hyperparameter tuning\n",
    " "
   ]
  },
  {
   "cell_type": "markdown",
   "id": "activated-priority",
   "metadata": {},
   "source": [
    "#### Further Suggestions: Feature Selection using eli5"
   ]
  },
  {
   "cell_type": "code",
   "execution_count": 123,
   "id": "liable-appearance",
   "metadata": {},
   "outputs": [],
   "source": [
    "import eli5"
   ]
  },
  {
   "cell_type": "code",
   "execution_count": 131,
   "id": "right-symphony",
   "metadata": {},
   "outputs": [
    {
     "data": {
      "text/plain": [
       "['x0_Resort Hotel',\n",
       " 'x1_Non Refund',\n",
       " 'x1_Refundable',\n",
       " 'x2_Group',\n",
       " 'x2_Transient',\n",
       " 'x2_Transient-Party',\n",
       " 'meal_0',\n",
       " 'meal_1',\n",
       " 'meal_2',\n",
       " 'meal_3',\n",
       " 'country_0',\n",
       " 'country_1',\n",
       " 'country_2',\n",
       " 'country_3',\n",
       " 'country_4',\n",
       " 'country_5',\n",
       " 'country_6',\n",
       " 'country_7',\n",
       " 'country_8',\n",
       " 'market_segment_0',\n",
       " 'market_segment_1',\n",
       " 'market_segment_2',\n",
       " 'market_segment_3',\n",
       " 'distribution_channel_0',\n",
       " 'distribution_channel_1',\n",
       " 'distribution_channel_2',\n",
       " 'distribution_channel_3',\n",
       " 'reserved_room_type_0',\n",
       " 'reserved_room_type_1',\n",
       " 'reserved_room_type_2',\n",
       " 'reserved_room_type_3',\n",
       " 'reserved_room_type_4',\n",
       " 'adults',\n",
       " 'children',\n",
       " 'babies',\n",
       " 'booking_changes',\n",
       " 'days_in_waiting_list',\n",
       " 'required_car_parking_spaces',\n",
       " 'total_of_special_requests']"
      ]
     },
     "execution_count": 131,
     "metadata": {},
     "output_type": "execute_result"
    }
   ],
   "source": [
    "features = list(transformer.transformers_[0][1].get_feature_names()) + transformer.transformers_[1][1].get_feature_names() + ['adults','children','babies','booking_changes','days_in_waiting_list','required_car_parking_spaces','total_of_special_requests']\n",
    "features"
   ]
  },
  {
   "cell_type": "code",
   "execution_count": 132,
   "id": "weekly-agenda",
   "metadata": {},
   "outputs": [
    {
     "data": {
      "text/html": [
       "\n",
       "    <style>\n",
       "    table.eli5-weights tr:hover {\n",
       "        filter: brightness(85%);\n",
       "    }\n",
       "</style>\n",
       "\n",
       "\n",
       "\n",
       "    \n",
       "\n",
       "    \n",
       "\n",
       "    \n",
       "\n",
       "    \n",
       "\n",
       "    \n",
       "\n",
       "    \n",
       "\n",
       "\n",
       "    \n",
       "\n",
       "    \n",
       "\n",
       "    \n",
       "\n",
       "    \n",
       "        \n",
       "\n",
       "    \n",
       "\n",
       "        \n",
       "            \n",
       "                \n",
       "                \n",
       "    \n",
       "        <p style=\"margin-bottom: 0.5em; margin-top: 0em\">\n",
       "            <b>\n",
       "    \n",
       "        y=1\n",
       "    \n",
       "</b>\n",
       "\n",
       "top features\n",
       "        </p>\n",
       "    \n",
       "    <table class=\"eli5-weights\"\n",
       "           style=\"border-collapse: collapse; border: none; margin-top: 0em; table-layout: auto; margin-bottom: 2em;\">\n",
       "        <thead>\n",
       "        <tr style=\"border: none;\">\n",
       "            \n",
       "                <th style=\"padding: 0 1em 0 0.5em; text-align: right; border: none;\" title=\"Feature weights. Note that weights do not account for feature value scales, so if feature values have different scales, features with highest weights might not be the most important.\">\n",
       "                    Weight<sup>?</sup>\n",
       "                </th>\n",
       "            \n",
       "            <th style=\"padding: 0 0.5em 0 0.5em; text-align: left; border: none;\">Feature</th>\n",
       "            \n",
       "        </tr>\n",
       "        </thead>\n",
       "        <tbody>\n",
       "        \n",
       "            <tr style=\"background-color: hsl(120, 100.00%, 82.73%); border: none;\">\n",
       "    <td style=\"padding: 0 1em 0 0.5em; text-align: right; border: none;\">\n",
       "        +5.238\n",
       "    </td>\n",
       "    <td style=\"padding: 0 0.5em 0 0.5em; text-align: left; border: none;\">\n",
       "        x1_Non Refund\n",
       "    </td>\n",
       "    \n",
       "</tr>\n",
       "        \n",
       "            <tr style=\"background-color: hsl(120, 100.00%, 96.38%); border: none;\">\n",
       "    <td style=\"padding: 0 1em 0 0.5em; text-align: right; border: none;\">\n",
       "        +0.562\n",
       "    </td>\n",
       "    <td style=\"padding: 0 0.5em 0 0.5em; text-align: left; border: none;\">\n",
       "        distribution_channel_3\n",
       "    </td>\n",
       "    \n",
       "</tr>\n",
       "        \n",
       "            <tr style=\"background-color: hsl(120, 100.00%, 96.74%); border: none;\">\n",
       "    <td style=\"padding: 0 1em 0 0.5em; text-align: right; border: none;\">\n",
       "        +0.483\n",
       "    </td>\n",
       "    <td style=\"padding: 0 0.5em 0 0.5em; text-align: left; border: none;\">\n",
       "        x2_Transient\n",
       "    </td>\n",
       "    \n",
       "</tr>\n",
       "        \n",
       "            <tr style=\"background-color: hsl(120, 100.00%, 97.12%); border: none;\">\n",
       "    <td style=\"padding: 0 1em 0 0.5em; text-align: right; border: none;\">\n",
       "        +0.405\n",
       "    </td>\n",
       "    <td style=\"padding: 0 0.5em 0 0.5em; text-align: left; border: none;\">\n",
       "        reserved_room_type_1\n",
       "    </td>\n",
       "    \n",
       "</tr>\n",
       "        \n",
       "            <tr style=\"background-color: hsl(120, 100.00%, 97.13%); border: none;\">\n",
       "    <td style=\"padding: 0 1em 0 0.5em; text-align: right; border: none;\">\n",
       "        +0.403\n",
       "    </td>\n",
       "    <td style=\"padding: 0 0.5em 0 0.5em; text-align: left; border: none;\">\n",
       "        adults\n",
       "    </td>\n",
       "    \n",
       "</tr>\n",
       "        \n",
       "            <tr style=\"background-color: hsl(120, 100.00%, 97.39%); border: none;\">\n",
       "    <td style=\"padding: 0 1em 0 0.5em; text-align: right; border: none;\">\n",
       "        +0.353\n",
       "    </td>\n",
       "    <td style=\"padding: 0 0.5em 0 0.5em; text-align: left; border: none;\">\n",
       "        reserved_room_type_2\n",
       "    </td>\n",
       "    \n",
       "</tr>\n",
       "        \n",
       "            <tr style=\"background-color: hsl(120, 100.00%, 97.96%); border: none;\">\n",
       "    <td style=\"padding: 0 1em 0 0.5em; text-align: right; border: none;\">\n",
       "        +0.248\n",
       "    </td>\n",
       "    <td style=\"padding: 0 0.5em 0 0.5em; text-align: left; border: none;\">\n",
       "        reserved_room_type_4\n",
       "    </td>\n",
       "    \n",
       "</tr>\n",
       "        \n",
       "            <tr style=\"background-color: hsl(120, 100.00%, 97.99%); border: none;\">\n",
       "    <td style=\"padding: 0 1em 0 0.5em; text-align: right; border: none;\">\n",
       "        +0.242\n",
       "    </td>\n",
       "    <td style=\"padding: 0 0.5em 0 0.5em; text-align: left; border: none;\">\n",
       "        children\n",
       "    </td>\n",
       "    \n",
       "</tr>\n",
       "        \n",
       "            <tr style=\"background-color: hsl(120, 100.00%, 98.48%); border: none;\">\n",
       "    <td style=\"padding: 0 1em 0 0.5em; text-align: right; border: none;\">\n",
       "        +0.162\n",
       "    </td>\n",
       "    <td style=\"padding: 0 0.5em 0 0.5em; text-align: left; border: none;\">\n",
       "        x1_Refundable\n",
       "    </td>\n",
       "    \n",
       "</tr>\n",
       "        \n",
       "            <tr style=\"background-color: hsl(120, 100.00%, 98.71%); border: none;\">\n",
       "    <td style=\"padding: 0 1em 0 0.5em; text-align: right; border: none;\">\n",
       "        +0.128\n",
       "    </td>\n",
       "    <td style=\"padding: 0 0.5em 0 0.5em; text-align: left; border: none;\">\n",
       "        country_2\n",
       "    </td>\n",
       "    \n",
       "</tr>\n",
       "        \n",
       "            <tr style=\"background-color: hsl(120, 100.00%, 98.98%); border: none;\">\n",
       "    <td style=\"padding: 0 1em 0 0.5em; text-align: right; border: none;\">\n",
       "        +0.092\n",
       "    </td>\n",
       "    <td style=\"padding: 0 0.5em 0 0.5em; text-align: left; border: none;\">\n",
       "        x2_Transient-Party\n",
       "    </td>\n",
       "    \n",
       "</tr>\n",
       "        \n",
       "            <tr style=\"background-color: hsl(120, 100.00%, 99.11%); border: none;\">\n",
       "    <td style=\"padding: 0 1em 0 0.5em; text-align: right; border: none;\">\n",
       "        +0.076\n",
       "    </td>\n",
       "    <td style=\"padding: 0 0.5em 0 0.5em; text-align: left; border: none;\">\n",
       "        reserved_room_type_3\n",
       "    </td>\n",
       "    \n",
       "</tr>\n",
       "        \n",
       "            <tr style=\"background-color: hsl(120, 100.00%, 99.16%); border: none;\">\n",
       "    <td style=\"padding: 0 1em 0 0.5em; text-align: right; border: none;\">\n",
       "        +0.070\n",
       "    </td>\n",
       "    <td style=\"padding: 0 0.5em 0 0.5em; text-align: left; border: none;\">\n",
       "        babies\n",
       "    </td>\n",
       "    \n",
       "</tr>\n",
       "        \n",
       "            <tr style=\"background-color: hsl(120, 100.00%, 99.80%); border: none;\">\n",
       "    <td style=\"padding: 0 1em 0 0.5em; text-align: right; border: none;\">\n",
       "        +0.009\n",
       "    </td>\n",
       "    <td style=\"padding: 0 0.5em 0 0.5em; text-align: left; border: none;\">\n",
       "        market_segment_3\n",
       "    </td>\n",
       "    \n",
       "</tr>\n",
       "        \n",
       "            <tr style=\"background-color: hsl(120, 100.00%, 99.96%); border: none;\">\n",
       "    <td style=\"padding: 0 1em 0 0.5em; text-align: right; border: none;\">\n",
       "        +0.001\n",
       "    </td>\n",
       "    <td style=\"padding: 0 0.5em 0 0.5em; text-align: left; border: none;\">\n",
       "        days_in_waiting_list\n",
       "    </td>\n",
       "    \n",
       "</tr>\n",
       "        \n",
       "        \n",
       "\n",
       "        \n",
       "        \n",
       "            <tr style=\"background-color: hsl(0, 100.00%, 99.82%); border: none;\">\n",
       "    <td style=\"padding: 0 1em 0 0.5em; text-align: right; border: none;\">\n",
       "        -0.008\n",
       "    </td>\n",
       "    <td style=\"padding: 0 0.5em 0 0.5em; text-align: left; border: none;\">\n",
       "        meal_3\n",
       "    </td>\n",
       "    \n",
       "</tr>\n",
       "        \n",
       "            <tr style=\"background-color: hsl(0, 100.00%, 99.72%); border: none;\">\n",
       "    <td style=\"padding: 0 1em 0 0.5em; text-align: right; border: none;\">\n",
       "        -0.014\n",
       "    </td>\n",
       "    <td style=\"padding: 0 0.5em 0 0.5em; text-align: left; border: none;\">\n",
       "        country_8\n",
       "    </td>\n",
       "    \n",
       "</tr>\n",
       "        \n",
       "            <tr style=\"background-color: hsl(0, 100.00%, 99.61%); border: none;\">\n",
       "    <td style=\"padding: 0 1em 0 0.5em; text-align: right; border: none;\">\n",
       "        -0.023\n",
       "    </td>\n",
       "    <td style=\"padding: 0 0.5em 0 0.5em; text-align: left; border: none;\">\n",
       "        country_3\n",
       "    </td>\n",
       "    \n",
       "</tr>\n",
       "        \n",
       "            <tr style=\"background-color: hsl(0, 100.00%, 98.48%); border: none;\">\n",
       "    <td style=\"padding: 0 1em 0 0.5em; text-align: right; border: none;\">\n",
       "        -0.162\n",
       "    </td>\n",
       "    <td style=\"padding: 0 0.5em 0 0.5em; text-align: left; border: none;\">\n",
       "        meal_2\n",
       "    </td>\n",
       "    \n",
       "</tr>\n",
       "        \n",
       "            <tr style=\"background-color: hsl(0, 100.00%, 98.43%); border: none;\">\n",
       "    <td style=\"padding: 0 1em 0 0.5em; text-align: right; border: none;\">\n",
       "        -0.170\n",
       "    </td>\n",
       "    <td style=\"padding: 0 0.5em 0 0.5em; text-align: left; border: none;\">\n",
       "        country_1\n",
       "    </td>\n",
       "    \n",
       "</tr>\n",
       "        \n",
       "            <tr style=\"background-color: hsl(0, 100.00%, 98.23%); border: none;\">\n",
       "    <td style=\"padding: 0 1em 0 0.5em; text-align: right; border: none;\">\n",
       "        -0.202\n",
       "    </td>\n",
       "    <td style=\"padding: 0 0.5em 0 0.5em; text-align: left; border: none;\">\n",
       "        distribution_channel_2\n",
       "    </td>\n",
       "    \n",
       "</tr>\n",
       "        \n",
       "            <tr style=\"background-color: hsl(0, 100.00%, 98.21%); border: none;\">\n",
       "    <td style=\"padding: 0 1em 0 0.5em; text-align: right; border: none;\">\n",
       "        -0.205\n",
       "    </td>\n",
       "    <td style=\"padding: 0 0.5em 0 0.5em; text-align: left; border: none;\">\n",
       "        country_4\n",
       "    </td>\n",
       "    \n",
       "</tr>\n",
       "        \n",
       "            <tr style=\"background-color: hsl(0, 100.00%, 97.97%); border: none;\">\n",
       "    <td style=\"padding: 0 1em 0 0.5em; text-align: right; border: none;\">\n",
       "        -0.246\n",
       "    </td>\n",
       "    <td style=\"padding: 0 0.5em 0 0.5em; text-align: left; border: none;\">\n",
       "        meal_1\n",
       "    </td>\n",
       "    \n",
       "</tr>\n",
       "        \n",
       "            <tr style=\"background-color: hsl(0, 100.00%, 97.90%); border: none;\">\n",
       "    <td style=\"padding: 0 1em 0 0.5em; text-align: right; border: none;\">\n",
       "        -0.258\n",
       "    </td>\n",
       "    <td style=\"padding: 0 0.5em 0 0.5em; text-align: left; border: none;\">\n",
       "        &lt;BIAS&gt;\n",
       "    </td>\n",
       "    \n",
       "</tr>\n",
       "        \n",
       "            <tr style=\"background-color: hsl(0, 100.00%, 97.38%); border: none;\">\n",
       "    <td style=\"padding: 0 1em 0 0.5em; text-align: right; border: none;\">\n",
       "        -0.353\n",
       "    </td>\n",
       "    <td style=\"padding: 0 0.5em 0 0.5em; text-align: left; border: none;\">\n",
       "        booking_changes\n",
       "    </td>\n",
       "    \n",
       "</tr>\n",
       "        \n",
       "            <tr style=\"background-color: hsl(0, 100.00%, 97.30%); border: none;\">\n",
       "    <td style=\"padding: 0 1em 0 0.5em; text-align: right; border: none;\">\n",
       "        -0.370\n",
       "    </td>\n",
       "    <td style=\"padding: 0 0.5em 0 0.5em; text-align: left; border: none;\">\n",
       "        x0_Resort Hotel\n",
       "    </td>\n",
       "    \n",
       "</tr>\n",
       "        \n",
       "            <tr style=\"background-color: hsl(0, 100.00%, 97.23%); border: none;\">\n",
       "    <td style=\"padding: 0 1em 0 0.5em; text-align: right; border: none;\">\n",
       "        -0.384\n",
       "    </td>\n",
       "    <td style=\"padding: 0 0.5em 0 0.5em; text-align: left; border: none;\">\n",
       "        distribution_channel_1\n",
       "    </td>\n",
       "    \n",
       "</tr>\n",
       "        \n",
       "            <tr style=\"background-color: hsl(0, 100.00%, 96.50%); border: none;\">\n",
       "    <td style=\"padding: 0 1em 0 0.5em; text-align: right; border: none;\">\n",
       "        -0.535\n",
       "    </td>\n",
       "    <td style=\"padding: 0 0.5em 0 0.5em; text-align: left; border: none;\">\n",
       "        country_5\n",
       "    </td>\n",
       "    \n",
       "</tr>\n",
       "        \n",
       "            <tr style=\"background-color: hsl(0, 100.00%, 95.95%); border: none;\">\n",
       "    <td style=\"padding: 0 1em 0 0.5em; text-align: right; border: none;\">\n",
       "        -0.660\n",
       "    </td>\n",
       "    <td style=\"padding: 0 0.5em 0 0.5em; text-align: left; border: none;\">\n",
       "        country_7\n",
       "    </td>\n",
       "    \n",
       "</tr>\n",
       "        \n",
       "            <tr style=\"background-color: hsl(0, 100.00%, 95.80%); border: none;\">\n",
       "    <td style=\"padding: 0 1em 0 0.5em; text-align: right; border: none;\">\n",
       "        -0.694\n",
       "    </td>\n",
       "    <td style=\"padding: 0 0.5em 0 0.5em; text-align: left; border: none;\">\n",
       "        total_of_special_requests\n",
       "    </td>\n",
       "    \n",
       "</tr>\n",
       "        \n",
       "            <tr style=\"background-color: hsl(0, 100.00%, 95.39%); border: none;\">\n",
       "    <td style=\"padding: 0 1em 0 0.5em; text-align: right; border: none;\">\n",
       "        -0.795\n",
       "    </td>\n",
       "    <td style=\"padding: 0 0.5em 0 0.5em; text-align: left; border: none;\">\n",
       "        market_segment_2\n",
       "    </td>\n",
       "    \n",
       "</tr>\n",
       "        \n",
       "            <tr style=\"background-color: hsl(0, 100.00%, 94.77%); border: none;\">\n",
       "    <td style=\"padding: 0 1em 0 0.5em; text-align: right; border: none;\">\n",
       "        -0.950\n",
       "    </td>\n",
       "    <td style=\"padding: 0 0.5em 0 0.5em; text-align: left; border: none;\">\n",
       "        country_6\n",
       "    </td>\n",
       "    \n",
       "</tr>\n",
       "        \n",
       "            <tr style=\"background-color: hsl(0, 100.00%, 94.49%); border: none;\">\n",
       "    <td style=\"padding: 0 1em 0 0.5em; text-align: right; border: none;\">\n",
       "        -1.023\n",
       "    </td>\n",
       "    <td style=\"padding: 0 0.5em 0 0.5em; text-align: left; border: none;\">\n",
       "        x2_Group\n",
       "    </td>\n",
       "    \n",
       "</tr>\n",
       "        \n",
       "            <tr style=\"background-color: hsl(0, 100.00%, 92.70%); border: none;\">\n",
       "    <td style=\"padding: 0 1em 0 0.5em; text-align: right; border: none;\">\n",
       "        -1.529\n",
       "    </td>\n",
       "    <td style=\"padding: 0 0.5em 0 0.5em; text-align: left; border: none;\">\n",
       "        market_segment_1\n",
       "    </td>\n",
       "    \n",
       "</tr>\n",
       "        \n",
       "            <tr style=\"background-color: hsl(0, 100.00%, 80.00%); border: none;\">\n",
       "    <td style=\"padding: 0 1em 0 0.5em; text-align: right; border: none;\">\n",
       "        -6.458\n",
       "    </td>\n",
       "    <td style=\"padding: 0 0.5em 0 0.5em; text-align: left; border: none;\">\n",
       "        required_car_parking_spaces\n",
       "    </td>\n",
       "    \n",
       "</tr>\n",
       "        \n",
       "\n",
       "        </tbody>\n",
       "    </table>\n",
       "\n",
       "            \n",
       "        \n",
       "\n",
       "        \n",
       "\n",
       "\n",
       "\n",
       "    \n",
       "\n",
       "    \n",
       "\n",
       "    \n",
       "\n",
       "    \n",
       "\n",
       "\n",
       "    \n",
       "\n",
       "    \n",
       "\n",
       "    \n",
       "\n",
       "    \n",
       "\n",
       "    \n",
       "\n",
       "    \n",
       "\n",
       "\n",
       "    \n",
       "\n",
       "    \n",
       "\n",
       "    \n",
       "\n",
       "    \n",
       "\n",
       "    \n",
       "\n",
       "    \n",
       "\n",
       "\n",
       "\n"
      ],
      "text/plain": [
       "Explanation(estimator='LogisticRegression(max_iter=10000)', description=\"\\nFeatures with largest coefficients.\\nCaveats:\\n1. Be careful with features which are not\\n   independent - weights don't show their importance.\\n2. If scale of input features is different then scale of coefficients\\n   will also be different, making direct comparison between coefficient values\\n   incorrect.\\n3. Depending on regularization, rare features sometimes may have high\\n   coefficients; this doesn't mean they contribute much to the\\n   classification result for most examples.\\n\", error=None, method='linear model', is_regression=False, targets=[TargetExplanation(target=1, feature_weights=FeatureWeights(pos=[FeatureWeight(feature='x1_Non Refund', weight=5.238151298522314, std=None, value=None), FeatureWeight(feature='distribution_channel_3', weight=0.5619001050274988, std=None, value=None), FeatureWeight(feature='x2_Transient', weight=0.483303058319387, std=None, value=None), FeatureWeight(feature='reserved_room_type_1', weight=0.4046981459251238, std=None, value=None), FeatureWeight(feature='adults', weight=0.4032486546333068, std=None, value=None), FeatureWeight(feature='reserved_room_type_2', weight=0.35291548445717497, std=None, value=None), FeatureWeight(feature='reserved_room_type_4', weight=0.24814371933739643, std=None, value=None), FeatureWeight(feature='children', weight=0.24240435695489232, std=None, value=None), FeatureWeight(feature='x1_Refundable', weight=0.16200191363586722, std=None, value=None), FeatureWeight(feature='country_2', weight=0.12830041560914124, std=None, value=None), FeatureWeight(feature='x2_Transient-Party', weight=0.09237445269447929, std=None, value=None), FeatureWeight(feature='reserved_room_type_3', weight=0.0760427898405248, std=None, value=None), FeatureWeight(feature='babies', weight=0.06955492587280696, std=None, value=None), FeatureWeight(feature='market_segment_3', weight=0.008972547285105992, std=None, value=None), FeatureWeight(feature='days_in_waiting_list', weight=0.0008492235460401282, std=None, value=None)], neg=[FeatureWeight(feature='required_car_parking_spaces', weight=-6.457859920193176, std=None, value=None), FeatureWeight(feature='market_segment_1', weight=-1.5289971168614434, std=None, value=None), FeatureWeight(feature='x2_Group', weight=-1.0228262076556218, std=None, value=None), FeatureWeight(feature='country_6', weight=-0.9500521189042569, std=None, value=None), FeatureWeight(feature='market_segment_2', weight=-0.7945863374616764, std=None, value=None), FeatureWeight(feature='total_of_special_requests', weight=-0.6936730520708028, std=None, value=None), FeatureWeight(feature='country_7', weight=-0.660455832010565, std=None, value=None), FeatureWeight(feature='country_5', weight=-0.5346372921124123, std=None, value=None), FeatureWeight(feature='distribution_channel_1', weight=-0.38387312443847055, std=None, value=None), FeatureWeight(feature='x0_Resort Hotel', weight=-0.3699122890292752, std=None, value=None), FeatureWeight(feature='booking_changes', weight=-0.3530862713358337, std=None, value=None), FeatureWeight(feature='<BIAS>', weight=-0.2584231609783821, std=None, value=None), FeatureWeight(feature='meal_1', weight=-0.24593315742475633, std=None, value=None), FeatureWeight(feature='country_4', weight=-0.20509567157748332, std=None, value=None), FeatureWeight(feature='distribution_channel_2', weight=-0.2017948565100837, std=None, value=None), FeatureWeight(feature='country_1', weight=-0.17002754173200793, std=None, value=None), FeatureWeight(feature='meal_2', weight=-0.16244973884421465, std=None, value=None), FeatureWeight(feature='country_3', weight=-0.02299579698505837, std=None, value=None), FeatureWeight(feature='country_8', weight=-0.014300242717769385, std=None, value=None), FeatureWeight(feature='meal_3', weight=-0.007692537504052759, std=None, value=None)], pos_remaining=0, neg_remaining=0), proba=None, score=None, weighted_spans=None, heatmap=None)], feature_importances=None, decision_tree=None, highlight_spaces=None, transition_features=None, image=None)"
      ]
     },
     "execution_count": 132,
     "metadata": {},
     "output_type": "execute_result"
    }
   ],
   "source": [
    "eli5.explain_weights(estimator_balance.named_steps['model'], top=50, feature_names=features)"
   ]
  },
  {
   "cell_type": "markdown",
   "id": "lucky-company",
   "metadata": {},
   "source": [
    "eli5 memberikan list feature-feature mana yang paling memberikan impact untuk prediksi, sehingga untuk pembuatan model selanjutnya dapat menggunakan feature-feature yang paling berbobot seperti deposit type, distribution channel, customer type, reserved room type, dan adults"
   ]
  },
  {
   "cell_type": "code",
   "execution_count": null,
   "id": "sized-processing",
   "metadata": {},
   "outputs": [],
   "source": []
  }
 ],
 "metadata": {
  "kernelspec": {
   "display_name": "Python 3",
   "language": "python",
   "name": "python3"
  },
  "language_info": {
   "codemirror_mode": {
    "name": "ipython",
    "version": 3
   },
   "file_extension": ".py",
   "mimetype": "text/x-python",
   "name": "python",
   "nbconvert_exporter": "python",
   "pygments_lexer": "ipython3",
   "version": "3.8.3"
  }
 },
 "nbformat": 4,
 "nbformat_minor": 5
}
